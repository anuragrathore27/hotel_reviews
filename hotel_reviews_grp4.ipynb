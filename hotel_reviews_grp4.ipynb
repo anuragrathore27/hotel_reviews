{
 "cells": [
  {
   "cell_type": "code",
   "execution_count": 50,
   "id": "eb9dcbc3",
   "metadata": {},
   "outputs": [],
   "source": [
    "import pandas as pd\n",
    "import numpy as np\n",
    "import matplotlib.pyplot as plt\n",
    "import seaborn as sns\n",
    "import warnings\n",
    "warnings.filterwarnings(\"ignore\")"
   ]
  },
  {
   "cell_type": "code",
   "execution_count": 51,
   "id": "e7029399",
   "metadata": {},
   "outputs": [
    {
     "data": {
      "text/html": [
       "<div>\n",
       "<style scoped>\n",
       "    .dataframe tbody tr th:only-of-type {\n",
       "        vertical-align: middle;\n",
       "    }\n",
       "\n",
       "    .dataframe tbody tr th {\n",
       "        vertical-align: top;\n",
       "    }\n",
       "\n",
       "    .dataframe thead th {\n",
       "        text-align: right;\n",
       "    }\n",
       "</style>\n",
       "<table border=\"1\" class=\"dataframe\">\n",
       "  <thead>\n",
       "    <tr style=\"text-align: right;\">\n",
       "      <th></th>\n",
       "      <th>Review</th>\n",
       "      <th>Rating</th>\n",
       "    </tr>\n",
       "  </thead>\n",
       "  <tbody>\n",
       "    <tr>\n",
       "      <th>0</th>\n",
       "      <td>nice hotel expensive parking got good deal sta...</td>\n",
       "      <td>4.0</td>\n",
       "    </tr>\n",
       "    <tr>\n",
       "      <th>1</th>\n",
       "      <td>ok nothing special charge diamond member hilto...</td>\n",
       "      <td>2.0</td>\n",
       "    </tr>\n",
       "    <tr>\n",
       "      <th>2</th>\n",
       "      <td>nice rooms not 4* experience hotel monaco seat...</td>\n",
       "      <td>3.0</td>\n",
       "    </tr>\n",
       "    <tr>\n",
       "      <th>3</th>\n",
       "      <td>unique, great stay, wonderful time hotel monac...</td>\n",
       "      <td>5.0</td>\n",
       "    </tr>\n",
       "    <tr>\n",
       "      <th>4</th>\n",
       "      <td>great stay great stay, went seahawk game aweso...</td>\n",
       "      <td>5.0</td>\n",
       "    </tr>\n",
       "  </tbody>\n",
       "</table>\n",
       "</div>"
      ],
      "text/plain": [
       "                                              Review  Rating\n",
       "0  nice hotel expensive parking got good deal sta...     4.0\n",
       "1  ok nothing special charge diamond member hilto...     2.0\n",
       "2  nice rooms not 4* experience hotel monaco seat...     3.0\n",
       "3  unique, great stay, wonderful time hotel monac...     5.0\n",
       "4  great stay great stay, went seahawk game aweso...     5.0"
      ]
     },
     "execution_count": 51,
     "metadata": {},
     "output_type": "execute_result"
    }
   ],
   "source": [
    "# Read the dataset\n",
    "data = pd.read_excel('hotel_reviews.xlsx')\n",
    "data.head()"
   ]
  },
  {
   "cell_type": "markdown",
   "id": "f9db6bb9",
   "metadata": {},
   "source": [
    "# EDA"
   ]
  },
  {
   "cell_type": "code",
   "execution_count": 52,
   "id": "07bdf709",
   "metadata": {},
   "outputs": [
    {
     "data": {
      "text/html": [
       "<div>\n",
       "<style scoped>\n",
       "    .dataframe tbody tr th:only-of-type {\n",
       "        vertical-align: middle;\n",
       "    }\n",
       "\n",
       "    .dataframe tbody tr th {\n",
       "        vertical-align: top;\n",
       "    }\n",
       "\n",
       "    .dataframe thead th {\n",
       "        text-align: right;\n",
       "    }\n",
       "</style>\n",
       "<table border=\"1\" class=\"dataframe\">\n",
       "  <thead>\n",
       "    <tr style=\"text-align: right;\">\n",
       "      <th></th>\n",
       "      <th>Review</th>\n",
       "      <th>Rating</th>\n",
       "    </tr>\n",
       "  </thead>\n",
       "  <tbody>\n",
       "    <tr>\n",
       "      <th>0</th>\n",
       "      <td>nice hotel expensive parking got good deal sta...</td>\n",
       "      <td>4.0</td>\n",
       "    </tr>\n",
       "    <tr>\n",
       "      <th>1</th>\n",
       "      <td>ok nothing special charge diamond member hilto...</td>\n",
       "      <td>2.0</td>\n",
       "    </tr>\n",
       "    <tr>\n",
       "      <th>2</th>\n",
       "      <td>nice rooms not 4* experience hotel monaco seat...</td>\n",
       "      <td>3.0</td>\n",
       "    </tr>\n",
       "    <tr>\n",
       "      <th>3</th>\n",
       "      <td>unique, great stay, wonderful time hotel monac...</td>\n",
       "      <td>5.0</td>\n",
       "    </tr>\n",
       "    <tr>\n",
       "      <th>4</th>\n",
       "      <td>great stay great stay, went seahawk game aweso...</td>\n",
       "      <td>5.0</td>\n",
       "    </tr>\n",
       "    <tr>\n",
       "      <th>5</th>\n",
       "      <td>love monaco staff husband stayed hotel crazy w...</td>\n",
       "      <td>5.0</td>\n",
       "    </tr>\n",
       "    <tr>\n",
       "      <th>6</th>\n",
       "      <td>cozy stay rainy city, husband spent 7 nights m...</td>\n",
       "      <td>5.0</td>\n",
       "    </tr>\n",
       "    <tr>\n",
       "      <th>7</th>\n",
       "      <td>excellent staff, housekeeping quality hotel ch...</td>\n",
       "      <td>4.0</td>\n",
       "    </tr>\n",
       "    <tr>\n",
       "      <th>8</th>\n",
       "      <td>hotel stayed hotel monaco cruise, rooms genero...</td>\n",
       "      <td>5.0</td>\n",
       "    </tr>\n",
       "    <tr>\n",
       "      <th>9</th>\n",
       "      <td>excellent stayed hotel monaco past w/e delight...</td>\n",
       "      <td>5.0</td>\n",
       "    </tr>\n",
       "  </tbody>\n",
       "</table>\n",
       "</div>"
      ],
      "text/plain": [
       "                                              Review  Rating\n",
       "0  nice hotel expensive parking got good deal sta...     4.0\n",
       "1  ok nothing special charge diamond member hilto...     2.0\n",
       "2  nice rooms not 4* experience hotel monaco seat...     3.0\n",
       "3  unique, great stay, wonderful time hotel monac...     5.0\n",
       "4  great stay great stay, went seahawk game aweso...     5.0\n",
       "5  love monaco staff husband stayed hotel crazy w...     5.0\n",
       "6  cozy stay rainy city, husband spent 7 nights m...     5.0\n",
       "7  excellent staff, housekeeping quality hotel ch...     4.0\n",
       "8  hotel stayed hotel monaco cruise, rooms genero...     5.0\n",
       "9  excellent stayed hotel monaco past w/e delight...     5.0"
      ]
     },
     "execution_count": 52,
     "metadata": {},
     "output_type": "execute_result"
    }
   ],
   "source": [
    "data.head(10)"
   ]
  },
  {
   "cell_type": "code",
   "execution_count": 53,
   "id": "f322ed8e",
   "metadata": {},
   "outputs": [
    {
     "data": {
      "text/plain": [
       "(20491, 2)"
      ]
     },
     "execution_count": 53,
     "metadata": {},
     "output_type": "execute_result"
    }
   ],
   "source": [
    "data.shape"
   ]
  },
  {
   "cell_type": "code",
   "execution_count": 54,
   "id": "35ad2597",
   "metadata": {},
   "outputs": [
    {
     "data": {
      "text/plain": [
       "Index(['Review', 'Rating'], dtype='object')"
      ]
     },
     "execution_count": 54,
     "metadata": {},
     "output_type": "execute_result"
    }
   ],
   "source": [
    "data.columns"
   ]
  },
  {
   "cell_type": "code",
   "execution_count": 55,
   "id": "75e7427d",
   "metadata": {},
   "outputs": [
    {
     "data": {
      "text/plain": [
       "Review    0\n",
       "Rating    0\n",
       "dtype: int64"
      ]
     },
     "execution_count": 55,
     "metadata": {},
     "output_type": "execute_result"
    }
   ],
   "source": [
    "data.isna().sum()"
   ]
  },
  {
   "cell_type": "markdown",
   "id": "e725fc94",
   "metadata": {},
   "source": [
    "#there is no null values in the data"
   ]
  },
  {
   "cell_type": "code",
   "execution_count": 56,
   "id": "45799fd0",
   "metadata": {},
   "outputs": [
    {
     "name": "stdout",
     "output_type": "stream",
     "text": [
      "<class 'pandas.core.frame.DataFrame'>\n",
      "RangeIndex: 20491 entries, 0 to 20490\n",
      "Data columns (total 2 columns):\n",
      " #   Column  Non-Null Count  Dtype  \n",
      "---  ------  --------------  -----  \n",
      " 0   Review  20491 non-null  object \n",
      " 1   Rating  20491 non-null  float64\n",
      "dtypes: float64(1), object(1)\n",
      "memory usage: 320.3+ KB\n"
     ]
    }
   ],
   "source": [
    "data.info()"
   ]
  },
  {
   "cell_type": "code",
   "execution_count": 57,
   "id": "bb180fb8",
   "metadata": {},
   "outputs": [
    {
     "data": {
      "text/plain": [
       "5.0    9054\n",
       "4.0    6039\n",
       "3.0    2184\n",
       "2.0    1793\n",
       "1.0    1421\n",
       "Name: Rating, dtype: int64"
      ]
     },
     "execution_count": 57,
     "metadata": {},
     "output_type": "execute_result"
    }
   ],
   "source": [
    "data['Rating'].value_counts()"
   ]
  },
  {
   "cell_type": "markdown",
   "id": "254ad956",
   "metadata": {},
   "source": [
    "#there are definitely more positive than negative reviews"
   ]
  },
  {
   "cell_type": "code",
   "execution_count": 58,
   "id": "21eef241",
   "metadata": {},
   "outputs": [
    {
     "data": {
      "text/plain": [
       "0"
      ]
     },
     "execution_count": 58,
     "metadata": {},
     "output_type": "execute_result"
    }
   ],
   "source": [
    "data.duplicated().sum()"
   ]
  },
  {
   "cell_type": "markdown",
   "id": "f5368be8",
   "metadata": {},
   "source": [
    "#there is no duplicate data in our dataset"
   ]
  },
  {
   "cell_type": "code",
   "execution_count": 59,
   "id": "16ef20b8",
   "metadata": {},
   "outputs": [
    {
     "data": {
      "text/plain": [
       "[1.0, 2.0, 3.0, 4.0, 5.0]"
      ]
     },
     "execution_count": 59,
     "metadata": {},
     "output_type": "execute_result"
    }
   ],
   "source": [
    "sorted(data[\"Rating\"].unique())"
   ]
  },
  {
   "cell_type": "code",
   "execution_count": 60,
   "id": "80ad826f",
   "metadata": {},
   "outputs": [],
   "source": [
    "#Converting the ratings column from float to int\n",
    "data['Rating'] = data['Rating'].astype('int')"
   ]
  },
  {
   "cell_type": "code",
   "execution_count": 61,
   "id": "d0dd4d27",
   "metadata": {},
   "outputs": [
    {
     "data": {
      "text/plain": [
       "5    9054\n",
       "4    6039\n",
       "3    2184\n",
       "2    1793\n",
       "1    1421\n",
       "Name: Rating, dtype: int64"
      ]
     },
     "execution_count": 61,
     "metadata": {},
     "output_type": "execute_result"
    }
   ],
   "source": [
    "data[\"Rating\"].value_counts()"
   ]
  },
  {
   "cell_type": "code",
   "execution_count": 62,
   "id": "914f0c8a",
   "metadata": {},
   "outputs": [
    {
     "data": {
      "text/html": [
       "<div>\n",
       "<style scoped>\n",
       "    .dataframe tbody tr th:only-of-type {\n",
       "        vertical-align: middle;\n",
       "    }\n",
       "\n",
       "    .dataframe tbody tr th {\n",
       "        vertical-align: top;\n",
       "    }\n",
       "\n",
       "    .dataframe thead th {\n",
       "        text-align: right;\n",
       "    }\n",
       "</style>\n",
       "<table border=\"1\" class=\"dataframe\">\n",
       "  <thead>\n",
       "    <tr style=\"text-align: right;\">\n",
       "      <th></th>\n",
       "      <th>Rating</th>\n",
       "    </tr>\n",
       "  </thead>\n",
       "  <tbody>\n",
       "    <tr>\n",
       "      <th>count</th>\n",
       "      <td>20491.000000</td>\n",
       "    </tr>\n",
       "    <tr>\n",
       "      <th>mean</th>\n",
       "      <td>3.952223</td>\n",
       "    </tr>\n",
       "    <tr>\n",
       "      <th>std</th>\n",
       "      <td>1.233030</td>\n",
       "    </tr>\n",
       "    <tr>\n",
       "      <th>min</th>\n",
       "      <td>1.000000</td>\n",
       "    </tr>\n",
       "    <tr>\n",
       "      <th>25%</th>\n",
       "      <td>3.000000</td>\n",
       "    </tr>\n",
       "    <tr>\n",
       "      <th>50%</th>\n",
       "      <td>4.000000</td>\n",
       "    </tr>\n",
       "    <tr>\n",
       "      <th>75%</th>\n",
       "      <td>5.000000</td>\n",
       "    </tr>\n",
       "    <tr>\n",
       "      <th>max</th>\n",
       "      <td>5.000000</td>\n",
       "    </tr>\n",
       "  </tbody>\n",
       "</table>\n",
       "</div>"
      ],
      "text/plain": [
       "             Rating\n",
       "count  20491.000000\n",
       "mean       3.952223\n",
       "std        1.233030\n",
       "min        1.000000\n",
       "25%        3.000000\n",
       "50%        4.000000\n",
       "75%        5.000000\n",
       "max        5.000000"
      ]
     },
     "execution_count": 62,
     "metadata": {},
     "output_type": "execute_result"
    }
   ],
   "source": [
    "data.describe()"
   ]
  },
  {
   "cell_type": "markdown",
   "id": "7125f084",
   "metadata": {},
   "source": [
    "#count of ratings for 4, 5 are comparatively much higher than the 3,2,1"
   ]
  },
  {
   "cell_type": "markdown",
   "id": "8ef3a9b7",
   "metadata": {},
   "source": [
    "#75% of reviews are rated 5, 4 and remaining 25% reviews are rated 3, 2, 1"
   ]
  },
  {
   "cell_type": "code",
   "execution_count": 63,
   "id": "3611d471",
   "metadata": {},
   "outputs": [],
   "source": [
    "# Review length"
   ]
  },
  {
   "cell_type": "code",
   "execution_count": 64,
   "id": "0ae7923a",
   "metadata": {},
   "outputs": [],
   "source": [
    "import string  \n",
    "import spacy \n",
    "import nltk"
   ]
  },
  {
   "cell_type": "code",
   "execution_count": 65,
   "id": "d7e082f8",
   "metadata": {},
   "outputs": [
    {
     "name": "stdout",
     "output_type": "stream",
     "text": [
      "Requirement already satisfied: nltk in c:\\users\\anura\\anaconda3\\lib\\site-packages (3.7)\n",
      "Requirement already satisfied: click in c:\\users\\anura\\anaconda3\\lib\\site-packages (from nltk) (8.0.4)\n",
      "Requirement already satisfied: joblib in c:\\users\\anura\\anaconda3\\lib\\site-packages (from nltk) (1.2.0)\n",
      "Requirement already satisfied: regex>=2021.8.3 in c:\\users\\anura\\anaconda3\\lib\\site-packages (from nltk) (2022.3.15)\n",
      "Requirement already satisfied: tqdm in c:\\users\\anura\\anaconda3\\lib\\site-packages (from nltk) (4.64.0)\n",
      "Requirement already satisfied: colorama in c:\\users\\anura\\anaconda3\\lib\\site-packages (from click->nltk) (0.4.6)\n",
      "Note: you may need to restart the kernel to use updated packages.\n"
     ]
    }
   ],
   "source": [
    "pip install nltk"
   ]
  },
  {
   "cell_type": "code",
   "execution_count": 66,
   "id": "71e4010e",
   "metadata": {
    "scrolled": true
   },
   "outputs": [
    {
     "name": "stderr",
     "output_type": "stream",
     "text": [
      "[nltk_data] Downloading package punkt to\n",
      "[nltk_data]     C:\\Users\\anura\\AppData\\Roaming\\nltk_data...\n",
      "[nltk_data]   Package punkt is already up-to-date!\n"
     ]
    },
    {
     "data": {
      "text/plain": [
       "True"
      ]
     },
     "execution_count": 66,
     "metadata": {},
     "output_type": "execute_result"
    }
   ],
   "source": [
    "nltk.download('punkt')"
   ]
  },
  {
   "cell_type": "code",
   "execution_count": 67,
   "id": "8e5b25ae",
   "metadata": {},
   "outputs": [],
   "source": [
    "data['num_characters'] = data['Review'].apply(len)"
   ]
  },
  {
   "cell_type": "code",
   "execution_count": 68,
   "id": "b11c280c",
   "metadata": {},
   "outputs": [],
   "source": [
    "# num of words\n",
    "data['num_words'] = data['Review'].apply(lambda x:len(nltk.word_tokenize(x)))"
   ]
  },
  {
   "cell_type": "code",
   "execution_count": 69,
   "id": "e3d5b2b8",
   "metadata": {},
   "outputs": [],
   "source": [
    "data['num_sentences'] = data['Review'].apply(lambda x:len(nltk.sent_tokenize(x)))"
   ]
  },
  {
   "cell_type": "code",
   "execution_count": 70,
   "id": "095fdbdd",
   "metadata": {},
   "outputs": [
    {
     "data": {
      "text/html": [
       "<div>\n",
       "<style scoped>\n",
       "    .dataframe tbody tr th:only-of-type {\n",
       "        vertical-align: middle;\n",
       "    }\n",
       "\n",
       "    .dataframe tbody tr th {\n",
       "        vertical-align: top;\n",
       "    }\n",
       "\n",
       "    .dataframe thead th {\n",
       "        text-align: right;\n",
       "    }\n",
       "</style>\n",
       "<table border=\"1\" class=\"dataframe\">\n",
       "  <thead>\n",
       "    <tr style=\"text-align: right;\">\n",
       "      <th></th>\n",
       "      <th>Review</th>\n",
       "      <th>Rating</th>\n",
       "      <th>num_characters</th>\n",
       "      <th>num_words</th>\n",
       "      <th>num_sentences</th>\n",
       "    </tr>\n",
       "  </thead>\n",
       "  <tbody>\n",
       "    <tr>\n",
       "      <th>0</th>\n",
       "      <td>nice hotel expensive parking got good deal sta...</td>\n",
       "      <td>4</td>\n",
       "      <td>593</td>\n",
       "      <td>98</td>\n",
       "      <td>1</td>\n",
       "    </tr>\n",
       "    <tr>\n",
       "      <th>1</th>\n",
       "      <td>ok nothing special charge diamond member hilto...</td>\n",
       "      <td>2</td>\n",
       "      <td>1689</td>\n",
       "      <td>270</td>\n",
       "      <td>1</td>\n",
       "    </tr>\n",
       "    <tr>\n",
       "      <th>2</th>\n",
       "      <td>nice rooms not 4* experience hotel monaco seat...</td>\n",
       "      <td>3</td>\n",
       "      <td>1427</td>\n",
       "      <td>236</td>\n",
       "      <td>2</td>\n",
       "    </tr>\n",
       "    <tr>\n",
       "      <th>3</th>\n",
       "      <td>unique, great stay, wonderful time hotel monac...</td>\n",
       "      <td>5</td>\n",
       "      <td>600</td>\n",
       "      <td>102</td>\n",
       "      <td>1</td>\n",
       "    </tr>\n",
       "    <tr>\n",
       "      <th>4</th>\n",
       "      <td>great stay great stay, went seahawk game aweso...</td>\n",
       "      <td>5</td>\n",
       "      <td>1281</td>\n",
       "      <td>224</td>\n",
       "      <td>1</td>\n",
       "    </tr>\n",
       "  </tbody>\n",
       "</table>\n",
       "</div>"
      ],
      "text/plain": [
       "                                              Review  Rating  num_characters  \\\n",
       "0  nice hotel expensive parking got good deal sta...       4             593   \n",
       "1  ok nothing special charge diamond member hilto...       2            1689   \n",
       "2  nice rooms not 4* experience hotel monaco seat...       3            1427   \n",
       "3  unique, great stay, wonderful time hotel monac...       5             600   \n",
       "4  great stay great stay, went seahawk game aweso...       5            1281   \n",
       "\n",
       "   num_words  num_sentences  \n",
       "0         98              1  \n",
       "1        270              1  \n",
       "2        236              2  \n",
       "3        102              1  \n",
       "4        224              1  "
      ]
     },
     "execution_count": 70,
     "metadata": {},
     "output_type": "execute_result"
    }
   ],
   "source": [
    "data.head()"
   ]
  },
  {
   "cell_type": "markdown",
   "id": "10f410c0",
   "metadata": {},
   "source": [
    "# Visualization"
   ]
  },
  {
   "cell_type": "code",
   "execution_count": 71,
   "id": "6c37d000",
   "metadata": {},
   "outputs": [
    {
     "data": {
      "image/png": "[encoded data removed]",
      "text/plain": [
       "<Figure size 576x360 with 1 Axes>"
      ]
     },
     "metadata": {
      "needs_background": "light"
     },
     "output_type": "display_data"
    }
   ],
   "source": [
    "#Visualizing the unique values of ratings\n",
    "plt.figure(figsize=(8,5))\n",
    "\n",
    "ax = sns.countplot(data = data , x = 'Rating', edgecolor='black', linewidth=1)\n",
    "\n",
    "for i in ax.containers:\n",
    "    ax.bar_label(i, label_type='center')\n",
    "    \n",
    "plt.title('Count of Ratings')\n",
    "plt.show()"
   ]
  },
  {
   "cell_type": "code",
   "execution_count": 72,
   "id": "1642ef81",
   "metadata": {},
   "outputs": [
    {
     "data": {
      "image/png": "[encoded data removed]",
      "text/plain": [
       "<Figure size 936x648 with 1 Axes>"
      ]
     },
     "metadata": {},
     "output_type": "display_data"
    }
   ],
   "source": [
    "#Pie plot, the % of distribution of ratings across the dataset\n",
    "plt.figure(figsize=(13,9))\n",
    "plt.pie(data['Rating'].value_counts(),labels=['5','4','3','2','1'], autopct='%1.2f%%')\n",
    "plt.title(\"Rating % Distribution Across Dataset\")\n",
    "plt.show()"
   ]
  },
  {
   "cell_type": "code",
   "execution_count": 73,
   "id": "e8ee4a00",
   "metadata": {},
   "outputs": [
    {
     "data": {
      "text/plain": [
       "array([[<AxesSubplot:title={'center':'Rating'}>,\n",
       "        <AxesSubplot:title={'center':'num_characters'}>],\n",
       "       [<AxesSubplot:title={'center':'num_words'}>,\n",
       "        <AxesSubplot:title={'center':'num_sentences'}>]], dtype=object)"
      ]
     },
     "execution_count": 73,
     "metadata": {},
     "output_type": "execute_result"
    },
    {
     "data": {
      "image/png": "[encoded data removed]",
      "text/plain": [
       "<Figure size 432x288 with 4 Axes>"
      ]
     },
     "metadata": {
      "needs_background": "light"
     },
     "output_type": "display_data"
    }
   ],
   "source": [
    "data.hist()"
   ]
  },
  {
   "cell_type": "code",
   "execution_count": 74,
   "id": "9cf5d175",
   "metadata": {},
   "outputs": [
    {
     "data": {
      "text/plain": [
       "<seaborn.axisgrid.PairGrid at 0x18a743d38e0>"
      ]
     },
     "execution_count": 74,
     "metadata": {},
     "output_type": "execute_result"
    },
    {
     "data": {
      "image/png": "[encoded data removed]",
      "text/plain": [
       "<Figure size 582.375x540 with 12 Axes>"
      ]
     },
     "metadata": {
      "needs_background": "light"
     },
     "output_type": "display_data"
    }
   ],
   "source": [
    "sns.pairplot(data,hue='Rating')"
   ]
  },
  {
   "cell_type": "code",
   "execution_count": 75,
   "id": "cab1e029",
   "metadata": {},
   "outputs": [
    {
     "data": {
      "text/plain": [
       "<AxesSubplot:>"
      ]
     },
     "execution_count": 75,
     "metadata": {},
     "output_type": "execute_result"
    },
    {
     "data": {
      "image/png": "[encoded data removed]",
      "text/plain": [
       "<Figure size 432x288 with 2 Axes>"
      ]
     },
     "metadata": {
      "needs_background": "light"
     },
     "output_type": "display_data"
    }
   ],
   "source": [
    "sns.heatmap(data.corr(),annot=True)"
   ]
  },
  {
   "cell_type": "markdown",
   "id": "71371d49",
   "metadata": {},
   "source": [
    "# Data prepocessing"
   ]
  },
  {
   "cell_type": "code",
   "execution_count": 76,
   "id": "797a3bed",
   "metadata": {},
   "outputs": [
    {
     "data": {
      "text/html": [
       "<div>\n",
       "<style scoped>\n",
       "    .dataframe tbody tr th:only-of-type {\n",
       "        vertical-align: middle;\n",
       "    }\n",
       "\n",
       "    .dataframe tbody tr th {\n",
       "        vertical-align: top;\n",
       "    }\n",
       "\n",
       "    .dataframe thead th {\n",
       "        text-align: right;\n",
       "    }\n",
       "</style>\n",
       "<table border=\"1\" class=\"dataframe\">\n",
       "  <thead>\n",
       "    <tr style=\"text-align: right;\">\n",
       "      <th></th>\n",
       "      <th>Review</th>\n",
       "      <th>Rating</th>\n",
       "      <th>num_characters</th>\n",
       "      <th>num_words</th>\n",
       "      <th>num_sentences</th>\n",
       "    </tr>\n",
       "  </thead>\n",
       "  <tbody>\n",
       "    <tr>\n",
       "      <th>0</th>\n",
       "      <td>nice hotel expensive parking got good deal sta...</td>\n",
       "      <td>4</td>\n",
       "      <td>593</td>\n",
       "      <td>98</td>\n",
       "      <td>1</td>\n",
       "    </tr>\n",
       "    <tr>\n",
       "      <th>1</th>\n",
       "      <td>ok nothing special charge diamond member hilto...</td>\n",
       "      <td>2</td>\n",
       "      <td>1689</td>\n",
       "      <td>270</td>\n",
       "      <td>1</td>\n",
       "    </tr>\n",
       "    <tr>\n",
       "      <th>2</th>\n",
       "      <td>nice rooms not 4* experience hotel monaco seat...</td>\n",
       "      <td>3</td>\n",
       "      <td>1427</td>\n",
       "      <td>236</td>\n",
       "      <td>2</td>\n",
       "    </tr>\n",
       "    <tr>\n",
       "      <th>3</th>\n",
       "      <td>unique, great stay, wonderful time hotel monac...</td>\n",
       "      <td>5</td>\n",
       "      <td>600</td>\n",
       "      <td>102</td>\n",
       "      <td>1</td>\n",
       "    </tr>\n",
       "    <tr>\n",
       "      <th>4</th>\n",
       "      <td>great stay great stay, went seahawk game aweso...</td>\n",
       "      <td>5</td>\n",
       "      <td>1281</td>\n",
       "      <td>224</td>\n",
       "      <td>1</td>\n",
       "    </tr>\n",
       "    <tr>\n",
       "      <th>...</th>\n",
       "      <td>...</td>\n",
       "      <td>...</td>\n",
       "      <td>...</td>\n",
       "      <td>...</td>\n",
       "      <td>...</td>\n",
       "    </tr>\n",
       "    <tr>\n",
       "      <th>20486</th>\n",
       "      <td>best kept secret 3rd time staying charm, not 5...</td>\n",
       "      <td>5</td>\n",
       "      <td>733</td>\n",
       "      <td>121</td>\n",
       "      <td>1</td>\n",
       "    </tr>\n",
       "    <tr>\n",
       "      <th>20487</th>\n",
       "      <td>great location price view hotel great quick pl...</td>\n",
       "      <td>4</td>\n",
       "      <td>306</td>\n",
       "      <td>40</td>\n",
       "      <td>1</td>\n",
       "    </tr>\n",
       "    <tr>\n",
       "      <th>20488</th>\n",
       "      <td>ok just looks nice modern outside, desk staff ...</td>\n",
       "      <td>2</td>\n",
       "      <td>443</td>\n",
       "      <td>70</td>\n",
       "      <td>1</td>\n",
       "    </tr>\n",
       "    <tr>\n",
       "      <th>20489</th>\n",
       "      <td>hotel theft ruined vacation hotel opened sept ...</td>\n",
       "      <td>1</td>\n",
       "      <td>5557</td>\n",
       "      <td>836</td>\n",
       "      <td>1</td>\n",
       "    </tr>\n",
       "    <tr>\n",
       "      <th>20490</th>\n",
       "      <td>people talking, ca n't believe excellent ratin...</td>\n",
       "      <td>2</td>\n",
       "      <td>620</td>\n",
       "      <td>102</td>\n",
       "      <td>1</td>\n",
       "    </tr>\n",
       "  </tbody>\n",
       "</table>\n",
       "<p>20491 rows × 5 columns</p>\n",
       "</div>"
      ],
      "text/plain": [
       "                                                  Review  Rating  \\\n",
       "0      nice hotel expensive parking got good deal sta...       4   \n",
       "1      ok nothing special charge diamond member hilto...       2   \n",
       "2      nice rooms not 4* experience hotel monaco seat...       3   \n",
       "3      unique, great stay, wonderful time hotel monac...       5   \n",
       "4      great stay great stay, went seahawk game aweso...       5   \n",
       "...                                                  ...     ...   \n",
       "20486  best kept secret 3rd time staying charm, not 5...       5   \n",
       "20487  great location price view hotel great quick pl...       4   \n",
       "20488  ok just looks nice modern outside, desk staff ...       2   \n",
       "20489  hotel theft ruined vacation hotel opened sept ...       1   \n",
       "20490  people talking, ca n't believe excellent ratin...       2   \n",
       "\n",
       "       num_characters  num_words  num_sentences  \n",
       "0                 593         98              1  \n",
       "1                1689        270              1  \n",
       "2                1427        236              2  \n",
       "3                 600        102              1  \n",
       "4                1281        224              1  \n",
       "...               ...        ...            ...  \n",
       "20486             733        121              1  \n",
       "20487             306         40              1  \n",
       "20488             443         70              1  \n",
       "20489            5557        836              1  \n",
       "20490             620        102              1  \n",
       "\n",
       "[20491 rows x 5 columns]"
      ]
     },
     "execution_count": 76,
     "metadata": {},
     "output_type": "execute_result"
    }
   ],
   "source": [
    "data"
   ]
  },
  {
   "cell_type": "code",
   "execution_count": 77,
   "id": "5ace7c5e",
   "metadata": {},
   "outputs": [],
   "source": [
    "# creating a new csv file"
   ]
  },
  {
   "cell_type": "code",
   "execution_count": 78,
   "id": "3673caf4",
   "metadata": {},
   "outputs": [],
   "source": [
    "data.to_csv('reviews.csv',encoding = 'utf-8',index = True)"
   ]
  },
  {
   "cell_type": "code",
   "execution_count": 79,
   "id": "d8603849",
   "metadata": {},
   "outputs": [
    {
     "data": {
      "text/html": [
       "<div>\n",
       "<style scoped>\n",
       "    .dataframe tbody tr th:only-of-type {\n",
       "        vertical-align: middle;\n",
       "    }\n",
       "\n",
       "    .dataframe tbody tr th {\n",
       "        vertical-align: top;\n",
       "    }\n",
       "\n",
       "    .dataframe thead th {\n",
       "        text-align: right;\n",
       "    }\n",
       "</style>\n",
       "<table border=\"1\" class=\"dataframe\">\n",
       "  <thead>\n",
       "    <tr style=\"text-align: right;\">\n",
       "      <th></th>\n",
       "      <th>Unnamed: 0</th>\n",
       "      <th>Review</th>\n",
       "      <th>Rating</th>\n",
       "      <th>num_characters</th>\n",
       "      <th>num_words</th>\n",
       "      <th>num_sentences</th>\n",
       "    </tr>\n",
       "  </thead>\n",
       "  <tbody>\n",
       "    <tr>\n",
       "      <th>0</th>\n",
       "      <td>0</td>\n",
       "      <td>nice hotel expensive parking got good deal sta...</td>\n",
       "      <td>4</td>\n",
       "      <td>593</td>\n",
       "      <td>98</td>\n",
       "      <td>1</td>\n",
       "    </tr>\n",
       "    <tr>\n",
       "      <th>1</th>\n",
       "      <td>1</td>\n",
       "      <td>ok nothing special charge diamond member hilto...</td>\n",
       "      <td>2</td>\n",
       "      <td>1689</td>\n",
       "      <td>270</td>\n",
       "      <td>1</td>\n",
       "    </tr>\n",
       "    <tr>\n",
       "      <th>2</th>\n",
       "      <td>2</td>\n",
       "      <td>nice rooms not 4* experience hotel monaco seat...</td>\n",
       "      <td>3</td>\n",
       "      <td>1427</td>\n",
       "      <td>236</td>\n",
       "      <td>2</td>\n",
       "    </tr>\n",
       "    <tr>\n",
       "      <th>3</th>\n",
       "      <td>3</td>\n",
       "      <td>unique, great stay, wonderful time hotel monac...</td>\n",
       "      <td>5</td>\n",
       "      <td>600</td>\n",
       "      <td>102</td>\n",
       "      <td>1</td>\n",
       "    </tr>\n",
       "    <tr>\n",
       "      <th>4</th>\n",
       "      <td>4</td>\n",
       "      <td>great stay great stay, went seahawk game aweso...</td>\n",
       "      <td>5</td>\n",
       "      <td>1281</td>\n",
       "      <td>224</td>\n",
       "      <td>1</td>\n",
       "    </tr>\n",
       "    <tr>\n",
       "      <th>...</th>\n",
       "      <td>...</td>\n",
       "      <td>...</td>\n",
       "      <td>...</td>\n",
       "      <td>...</td>\n",
       "      <td>...</td>\n",
       "      <td>...</td>\n",
       "    </tr>\n",
       "    <tr>\n",
       "      <th>20486</th>\n",
       "      <td>20486</td>\n",
       "      <td>best kept secret 3rd time staying charm, not 5...</td>\n",
       "      <td>5</td>\n",
       "      <td>733</td>\n",
       "      <td>121</td>\n",
       "      <td>1</td>\n",
       "    </tr>\n",
       "    <tr>\n",
       "      <th>20487</th>\n",
       "      <td>20487</td>\n",
       "      <td>great location price view hotel great quick pl...</td>\n",
       "      <td>4</td>\n",
       "      <td>306</td>\n",
       "      <td>40</td>\n",
       "      <td>1</td>\n",
       "    </tr>\n",
       "    <tr>\n",
       "      <th>20488</th>\n",
       "      <td>20488</td>\n",
       "      <td>ok just looks nice modern outside, desk staff ...</td>\n",
       "      <td>2</td>\n",
       "      <td>443</td>\n",
       "      <td>70</td>\n",
       "      <td>1</td>\n",
       "    </tr>\n",
       "    <tr>\n",
       "      <th>20489</th>\n",
       "      <td>20489</td>\n",
       "      <td>hotel theft ruined vacation hotel opened sept ...</td>\n",
       "      <td>1</td>\n",
       "      <td>5557</td>\n",
       "      <td>836</td>\n",
       "      <td>1</td>\n",
       "    </tr>\n",
       "    <tr>\n",
       "      <th>20490</th>\n",
       "      <td>20490</td>\n",
       "      <td>people talking, ca n't believe excellent ratin...</td>\n",
       "      <td>2</td>\n",
       "      <td>620</td>\n",
       "      <td>102</td>\n",
       "      <td>1</td>\n",
       "    </tr>\n",
       "  </tbody>\n",
       "</table>\n",
       "<p>20491 rows × 6 columns</p>\n",
       "</div>"
      ],
      "text/plain": [
       "       Unnamed: 0                                             Review  Rating  \\\n",
       "0               0  nice hotel expensive parking got good deal sta...       4   \n",
       "1               1  ok nothing special charge diamond member hilto...       2   \n",
       "2               2  nice rooms not 4* experience hotel monaco seat...       3   \n",
       "3               3  unique, great stay, wonderful time hotel monac...       5   \n",
       "4               4  great stay great stay, went seahawk game aweso...       5   \n",
       "...           ...                                                ...     ...   \n",
       "20486       20486  best kept secret 3rd time staying charm, not 5...       5   \n",
       "20487       20487  great location price view hotel great quick pl...       4   \n",
       "20488       20488  ok just looks nice modern outside, desk staff ...       2   \n",
       "20489       20489  hotel theft ruined vacation hotel opened sept ...       1   \n",
       "20490       20490  people talking, ca n't believe excellent ratin...       2   \n",
       "\n",
       "       num_characters  num_words  num_sentences  \n",
       "0                 593         98              1  \n",
       "1                1689        270              1  \n",
       "2                1427        236              2  \n",
       "3                 600        102              1  \n",
       "4                1281        224              1  \n",
       "...               ...        ...            ...  \n",
       "20486             733        121              1  \n",
       "20487             306         40              1  \n",
       "20488             443         70              1  \n",
       "20489            5557        836              1  \n",
       "20490             620        102              1  \n",
       "\n",
       "[20491 rows x 6 columns]"
      ]
     },
     "execution_count": 79,
     "metadata": {},
     "output_type": "execute_result"
    }
   ],
   "source": [
    "review_content = pd.read_csv('reviews.csv',encoding = 'utf-8')\n",
    "review_content"
   ]
  },
  {
   "cell_type": "code",
   "execution_count": 80,
   "id": "5024b414",
   "metadata": {},
   "outputs": [],
   "source": [
    "review_content.drop('Unnamed: 0',axis=1,inplace=True)"
   ]
  },
  {
   "cell_type": "code",
   "execution_count": 81,
   "id": "ab583f08",
   "metadata": {},
   "outputs": [
    {
     "data": {
      "text/html": [
       "<div>\n",
       "<style scoped>\n",
       "    .dataframe tbody tr th:only-of-type {\n",
       "        vertical-align: middle;\n",
       "    }\n",
       "\n",
       "    .dataframe tbody tr th {\n",
       "        vertical-align: top;\n",
       "    }\n",
       "\n",
       "    .dataframe thead th {\n",
       "        text-align: right;\n",
       "    }\n",
       "</style>\n",
       "<table border=\"1\" class=\"dataframe\">\n",
       "  <thead>\n",
       "    <tr style=\"text-align: right;\">\n",
       "      <th></th>\n",
       "      <th>Review</th>\n",
       "      <th>Rating</th>\n",
       "      <th>num_characters</th>\n",
       "      <th>num_words</th>\n",
       "      <th>num_sentences</th>\n",
       "    </tr>\n",
       "  </thead>\n",
       "  <tbody>\n",
       "    <tr>\n",
       "      <th>0</th>\n",
       "      <td>nice hotel expensive parking got good deal sta...</td>\n",
       "      <td>4</td>\n",
       "      <td>593</td>\n",
       "      <td>98</td>\n",
       "      <td>1</td>\n",
       "    </tr>\n",
       "    <tr>\n",
       "      <th>1</th>\n",
       "      <td>ok nothing special charge diamond member hilto...</td>\n",
       "      <td>2</td>\n",
       "      <td>1689</td>\n",
       "      <td>270</td>\n",
       "      <td>1</td>\n",
       "    </tr>\n",
       "    <tr>\n",
       "      <th>2</th>\n",
       "      <td>nice rooms not 4* experience hotel monaco seat...</td>\n",
       "      <td>3</td>\n",
       "      <td>1427</td>\n",
       "      <td>236</td>\n",
       "      <td>2</td>\n",
       "    </tr>\n",
       "    <tr>\n",
       "      <th>3</th>\n",
       "      <td>unique, great stay, wonderful time hotel monac...</td>\n",
       "      <td>5</td>\n",
       "      <td>600</td>\n",
       "      <td>102</td>\n",
       "      <td>1</td>\n",
       "    </tr>\n",
       "    <tr>\n",
       "      <th>4</th>\n",
       "      <td>great stay great stay, went seahawk game aweso...</td>\n",
       "      <td>5</td>\n",
       "      <td>1281</td>\n",
       "      <td>224</td>\n",
       "      <td>1</td>\n",
       "    </tr>\n",
       "  </tbody>\n",
       "</table>\n",
       "</div>"
      ],
      "text/plain": [
       "                                              Review  Rating  num_characters  \\\n",
       "0  nice hotel expensive parking got good deal sta...       4             593   \n",
       "1  ok nothing special charge diamond member hilto...       2            1689   \n",
       "2  nice rooms not 4* experience hotel monaco seat...       3            1427   \n",
       "3  unique, great stay, wonderful time hotel monac...       5             600   \n",
       "4  great stay great stay, went seahawk game aweso...       5            1281   \n",
       "\n",
       "   num_words  num_sentences  \n",
       "0         98              1  \n",
       "1        270              1  \n",
       "2        236              2  \n",
       "3        102              1  \n",
       "4        224              1  "
      ]
     },
     "execution_count": 81,
     "metadata": {},
     "output_type": "execute_result"
    }
   ],
   "source": [
    "review_content.head()"
   ]
  },
  {
   "cell_type": "code",
   "execution_count": 82,
   "id": "26d5da33",
   "metadata": {},
   "outputs": [
    {
     "data": {
      "text/plain": [
       "(20491, 5)"
      ]
     },
     "execution_count": 82,
     "metadata": {},
     "output_type": "execute_result"
    }
   ],
   "source": [
    "review_content.shape"
   ]
  },
  {
   "cell_type": "markdown",
   "id": "1e858c6e",
   "metadata": {},
   "source": [
    "# Text Cleaning"
   ]
  },
  {
   "cell_type": "code",
   "execution_count": 83,
   "id": "f220e872",
   "metadata": {},
   "outputs": [
    {
     "name": "stderr",
     "output_type": "stream",
     "text": [
      "[nltk_data] Downloading package omw-1.4 to\n",
      "[nltk_data]     C:\\Users\\anura\\AppData\\Roaming\\nltk_data...\n",
      "[nltk_data]   Package omw-1.4 is already up-to-date!\n",
      "[nltk_data] Downloading package wordnet to\n",
      "[nltk_data]     C:\\Users\\anura\\AppData\\Roaming\\nltk_data...\n",
      "[nltk_data]   Package wordnet is already up-to-date!\n",
      "[nltk_data] Downloading package stopwords to\n",
      "[nltk_data]     C:\\Users\\anura\\AppData\\Roaming\\nltk_data...\n",
      "[nltk_data]   Package stopwords is already up-to-date!\n"
     ]
    }
   ],
   "source": [
    "import re\n",
    "import string\n",
    "import nltk\n",
    "nltk.download('omw-1.4')\n",
    "nltk.download('wordnet')\n",
    "nltk.download('stopwords')\n",
    "from nltk.tokenize import RegexpTokenizer\n",
    "from nltk.stem import WordNetLemmatizer\n",
    "from nltk.corpus import stopwords"
   ]
  },
  {
   "cell_type": "code",
   "execution_count": 84,
   "id": "3b27c36f",
   "metadata": {},
   "outputs": [],
   "source": [
    "def preprocess(sentence):\n",
    "    sentence=str(sentence)\n",
    "    sentence = sentence.lower()\n",
    "    sentence=sentence.replace('{html}',\"\") \n",
    "    cleanr = re.compile('<.*?>')\n",
    "    cleantext = re.sub(cleanr, '', sentence)\n",
    "    rem_url=re.sub(r'http\\S+', '',cleantext)\n",
    "    rem_num = re.sub('[0-9]+', '', rem_url)\n",
    "    tokenizer = RegexpTokenizer(r'\\w+')\n",
    "    tokens = tokenizer.tokenize(rem_num)  \n",
    "    filtered_words = [w for w in tokens if len(w) > 2 if not w in stopwords.words('english')]\n",
    "    lemmatizer= WordNetLemmatizer()\n",
    "    lemma_words=[lemmatizer.lemmatize(w) for w in filtered_words]\n",
    "    return \" \".join(lemma_words)"
   ]
  },
  {
   "cell_type": "code",
   "execution_count": 85,
   "id": "94dc79a5",
   "metadata": {},
   "outputs": [],
   "source": [
    "def lemmatise(sentence):\n",
    "    tokenizer = RegexpTokenizer(r'\\w+')\n",
    "    tokens = tokenizer.tokenize(sentence)\n",
    "    lemmatizer = WordNetLemmatizer()\n",
    "    lemma_words=[lemmatizer.lemmatize(w) for w in tokens]\n",
    "    return \" \".join(lemma_words)"
   ]
  },
  {
   "cell_type": "code",
   "execution_count": 86,
   "id": "b7aa8094",
   "metadata": {},
   "outputs": [
    {
     "data": {
      "text/plain": [
       "0        nice hotel expensive parking got good deal sta...\n",
       "1        nothing special charge diamond member hilton d...\n",
       "2        nice room experience hotel monaco seattle good...\n",
       "3        unique great stay wonderful time hotel monaco ...\n",
       "4        great stay great stay went seahawk game awesom...\n",
       "                               ...                        \n",
       "20486    best kept secret time staying charm star beat ...\n",
       "20487    great location price view hotel great quick pl...\n",
       "20488    look nice modern outside desk staff particular...\n",
       "20489    hotel theft ruined vacation hotel opened sept ...\n",
       "20490    people talking believe excellent rating hotel ...\n",
       "Name: cleaned_review, Length: 20491, dtype: object"
      ]
     },
     "execution_count": 86,
     "metadata": {},
     "output_type": "execute_result"
    }
   ],
   "source": [
    "review_content['cleaned_review']=review_content['Review'].apply(lambda x :preprocess(x))\n",
    "review_content['cleaned_review']"
   ]
  },
  {
   "cell_type": "code",
   "execution_count": 87,
   "id": "ea87b5af",
   "metadata": {},
   "outputs": [
    {
     "data": {
      "text/plain": [
       "0        [nice, hotel, expensive, parking, got, good, d...\n",
       "1        [nothing, special, charge, diamond, member, hi...\n",
       "2        [nice, room, experience, hotel, monaco, seattl...\n",
       "3        [unique, great, stay, wonderful, time, hotel, ...\n",
       "4        [great, stay, great, stay, went, seahawk, game...\n",
       "                               ...                        \n",
       "20486    [best, kept, secret, time, staying, charm, sta...\n",
       "20487    [great, location, price, view, hotel, great, q...\n",
       "20488    [look, nice, modern, outside, desk, staff, par...\n",
       "20489    [hotel, theft, ruined, vacation, hotel, opened...\n",
       "20490    [people, talking, believe, excellent, rating, ...\n",
       "Name: lemmatized_content, Length: 20491, dtype: object"
      ]
     },
     "execution_count": 87,
     "metadata": {},
     "output_type": "execute_result"
    }
   ],
   "source": [
    "tokenizer = RegexpTokenizer(r'\\w+')\n",
    "review_content['lemmatized_content']=review_content['cleaned_review'].map(lambda x : tokenizer.tokenize(lemmatise(x)))\n",
    "review_content['lemmatized_content']"
   ]
  },
  {
   "cell_type": "code",
   "execution_count": 88,
   "id": "d05a0a64",
   "metadata": {},
   "outputs": [
    {
     "data": {
      "text/html": [
       "<div>\n",
       "<style scoped>\n",
       "    .dataframe tbody tr th:only-of-type {\n",
       "        vertical-align: middle;\n",
       "    }\n",
       "\n",
       "    .dataframe tbody tr th {\n",
       "        vertical-align: top;\n",
       "    }\n",
       "\n",
       "    .dataframe thead th {\n",
       "        text-align: right;\n",
       "    }\n",
       "</style>\n",
       "<table border=\"1\" class=\"dataframe\">\n",
       "  <thead>\n",
       "    <tr style=\"text-align: right;\">\n",
       "      <th></th>\n",
       "      <th>Review</th>\n",
       "      <th>Rating</th>\n",
       "      <th>num_characters</th>\n",
       "      <th>num_words</th>\n",
       "      <th>num_sentences</th>\n",
       "      <th>cleaned_review</th>\n",
       "      <th>lemmatized_content</th>\n",
       "    </tr>\n",
       "  </thead>\n",
       "  <tbody>\n",
       "    <tr>\n",
       "      <th>0</th>\n",
       "      <td>nice hotel expensive parking got good deal sta...</td>\n",
       "      <td>4</td>\n",
       "      <td>593</td>\n",
       "      <td>98</td>\n",
       "      <td>1</td>\n",
       "      <td>nice hotel expensive parking got good deal sta...</td>\n",
       "      <td>[nice, hotel, expensive, parking, got, good, d...</td>\n",
       "    </tr>\n",
       "    <tr>\n",
       "      <th>1</th>\n",
       "      <td>ok nothing special charge diamond member hilto...</td>\n",
       "      <td>2</td>\n",
       "      <td>1689</td>\n",
       "      <td>270</td>\n",
       "      <td>1</td>\n",
       "      <td>nothing special charge diamond member hilton d...</td>\n",
       "      <td>[nothing, special, charge, diamond, member, hi...</td>\n",
       "    </tr>\n",
       "    <tr>\n",
       "      <th>2</th>\n",
       "      <td>nice rooms not 4* experience hotel monaco seat...</td>\n",
       "      <td>3</td>\n",
       "      <td>1427</td>\n",
       "      <td>236</td>\n",
       "      <td>2</td>\n",
       "      <td>nice room experience hotel monaco seattle good...</td>\n",
       "      <td>[nice, room, experience, hotel, monaco, seattl...</td>\n",
       "    </tr>\n",
       "    <tr>\n",
       "      <th>3</th>\n",
       "      <td>unique, great stay, wonderful time hotel monac...</td>\n",
       "      <td>5</td>\n",
       "      <td>600</td>\n",
       "      <td>102</td>\n",
       "      <td>1</td>\n",
       "      <td>unique great stay wonderful time hotel monaco ...</td>\n",
       "      <td>[unique, great, stay, wonderful, time, hotel, ...</td>\n",
       "    </tr>\n",
       "    <tr>\n",
       "      <th>4</th>\n",
       "      <td>great stay great stay, went seahawk game aweso...</td>\n",
       "      <td>5</td>\n",
       "      <td>1281</td>\n",
       "      <td>224</td>\n",
       "      <td>1</td>\n",
       "      <td>great stay great stay went seahawk game awesom...</td>\n",
       "      <td>[great, stay, great, stay, went, seahawk, game...</td>\n",
       "    </tr>\n",
       "  </tbody>\n",
       "</table>\n",
       "</div>"
      ],
      "text/plain": [
       "                                              Review  Rating  num_characters  \\\n",
       "0  nice hotel expensive parking got good deal sta...       4             593   \n",
       "1  ok nothing special charge diamond member hilto...       2            1689   \n",
       "2  nice rooms not 4* experience hotel monaco seat...       3            1427   \n",
       "3  unique, great stay, wonderful time hotel monac...       5             600   \n",
       "4  great stay great stay, went seahawk game aweso...       5            1281   \n",
       "\n",
       "   num_words  num_sentences  \\\n",
       "0         98              1   \n",
       "1        270              1   \n",
       "2        236              2   \n",
       "3        102              1   \n",
       "4        224              1   \n",
       "\n",
       "                                      cleaned_review  \\\n",
       "0  nice hotel expensive parking got good deal sta...   \n",
       "1  nothing special charge diamond member hilton d...   \n",
       "2  nice room experience hotel monaco seattle good...   \n",
       "3  unique great stay wonderful time hotel monaco ...   \n",
       "4  great stay great stay went seahawk game awesom...   \n",
       "\n",
       "                                  lemmatized_content  \n",
       "0  [nice, hotel, expensive, parking, got, good, d...  \n",
       "1  [nothing, special, charge, diamond, member, hi...  \n",
       "2  [nice, room, experience, hotel, monaco, seattl...  \n",
       "3  [unique, great, stay, wonderful, time, hotel, ...  \n",
       "4  [great, stay, great, stay, went, seahawk, game...  "
      ]
     },
     "execution_count": 88,
     "metadata": {},
     "output_type": "execute_result"
    }
   ],
   "source": [
    "review_content.head()"
   ]
  },
  {
   "cell_type": "markdown",
   "id": "436313dc",
   "metadata": {},
   "source": [
    "# Data Analysis"
   ]
  },
  {
   "cell_type": "code",
   "execution_count": 89,
   "id": "55e984a3",
   "metadata": {},
   "outputs": [
    {
     "name": "stdout",
     "output_type": "stream",
     "text": [
      "Requirement already satisfied: textblob in c:\\users\\anura\\anaconda3\\lib\\site-packages (0.17.1)Note: you may need to restart the kernel to use updated packages.\n",
      "Requirement already satisfied: nltk>=3.1 in c:\\users\\anura\\anaconda3\\lib\\site-packages (from textblob) (3.7)\n",
      "Requirement already satisfied: click in c:\\users\\anura\\anaconda3\\lib\\site-packages (from nltk>=3.1->textblob) (8.0.4)\n",
      "Requirement already satisfied: joblib in c:\\users\\anura\\anaconda3\\lib\\site-packages (from nltk>=3.1->textblob) (1.2.0)\n",
      "Requirement already satisfied: regex>=2021.8.3 in c:\\users\\anura\\anaconda3\\lib\\site-packages (from nltk>=3.1->textblob) (2022.3.15)\n",
      "Requirement already satisfied: tqdm in c:\\users\\anura\\anaconda3\\lib\\site-packages (from nltk>=3.1->textblob) (4.64.0)\n",
      "Requirement already satisfied: colorama in c:\\users\\anura\\anaconda3\\lib\\site-packages (from click->nltk>=3.1->textblob) (0.4.6)\n",
      "\n"
     ]
    }
   ],
   "source": [
    "pip install textblob"
   ]
  },
  {
   "cell_type": "code",
   "execution_count": 90,
   "id": "396047e1",
   "metadata": {},
   "outputs": [],
   "source": [
    "from textblob import TextBlob\n",
    "import matplotlib.pyplot  as plt\n",
    "import seaborn as sns"
   ]
  },
  {
   "cell_type": "code",
   "execution_count": 91,
   "id": "16732c11",
   "metadata": {},
   "outputs": [
    {
     "data": {
      "text/html": [
       "<div>\n",
       "<style scoped>\n",
       "    .dataframe tbody tr th:only-of-type {\n",
       "        vertical-align: middle;\n",
       "    }\n",
       "\n",
       "    .dataframe tbody tr th {\n",
       "        vertical-align: top;\n",
       "    }\n",
       "\n",
       "    .dataframe thead th {\n",
       "        text-align: right;\n",
       "    }\n",
       "</style>\n",
       "<table border=\"1\" class=\"dataframe\">\n",
       "  <thead>\n",
       "    <tr style=\"text-align: right;\">\n",
       "      <th></th>\n",
       "      <th>Review</th>\n",
       "      <th>Rating</th>\n",
       "      <th>num_characters</th>\n",
       "      <th>num_words</th>\n",
       "      <th>num_sentences</th>\n",
       "      <th>cleaned_review</th>\n",
       "      <th>lemmatized_content</th>\n",
       "      <th>sentiment</th>\n",
       "    </tr>\n",
       "  </thead>\n",
       "  <tbody>\n",
       "    <tr>\n",
       "      <th>0</th>\n",
       "      <td>nice hotel expensive parking got good deal sta...</td>\n",
       "      <td>4</td>\n",
       "      <td>593</td>\n",
       "      <td>98</td>\n",
       "      <td>1</td>\n",
       "      <td>nice hotel expensive parking got good deal sta...</td>\n",
       "      <td>[nice, hotel, expensive, parking, got, good, d...</td>\n",
       "      <td>0.208744</td>\n",
       "    </tr>\n",
       "    <tr>\n",
       "      <th>1</th>\n",
       "      <td>ok nothing special charge diamond member hilto...</td>\n",
       "      <td>2</td>\n",
       "      <td>1689</td>\n",
       "      <td>270</td>\n",
       "      <td>1</td>\n",
       "      <td>nothing special charge diamond member hilton d...</td>\n",
       "      <td>[nothing, special, charge, diamond, member, hi...</td>\n",
       "      <td>0.238948</td>\n",
       "    </tr>\n",
       "    <tr>\n",
       "      <th>2</th>\n",
       "      <td>nice rooms not 4* experience hotel monaco seat...</td>\n",
       "      <td>3</td>\n",
       "      <td>1427</td>\n",
       "      <td>236</td>\n",
       "      <td>2</td>\n",
       "      <td>nice room experience hotel monaco seattle good...</td>\n",
       "      <td>[nice, room, experience, hotel, monaco, seattl...</td>\n",
       "      <td>0.266138</td>\n",
       "    </tr>\n",
       "    <tr>\n",
       "      <th>3</th>\n",
       "      <td>unique, great stay, wonderful time hotel monac...</td>\n",
       "      <td>5</td>\n",
       "      <td>600</td>\n",
       "      <td>102</td>\n",
       "      <td>1</td>\n",
       "      <td>unique great stay wonderful time hotel monaco ...</td>\n",
       "      <td>[unique, great, stay, wonderful, time, hotel, ...</td>\n",
       "      <td>0.504825</td>\n",
       "    </tr>\n",
       "    <tr>\n",
       "      <th>4</th>\n",
       "      <td>great stay great stay, went seahawk game aweso...</td>\n",
       "      <td>5</td>\n",
       "      <td>1281</td>\n",
       "      <td>224</td>\n",
       "      <td>1</td>\n",
       "      <td>great stay great stay went seahawk game awesom...</td>\n",
       "      <td>[great, stay, great, stay, went, seahawk, game...</td>\n",
       "      <td>0.469643</td>\n",
       "    </tr>\n",
       "    <tr>\n",
       "      <th>...</th>\n",
       "      <td>...</td>\n",
       "      <td>...</td>\n",
       "      <td>...</td>\n",
       "      <td>...</td>\n",
       "      <td>...</td>\n",
       "      <td>...</td>\n",
       "      <td>...</td>\n",
       "      <td>...</td>\n",
       "    </tr>\n",
       "    <tr>\n",
       "      <th>20486</th>\n",
       "      <td>best kept secret 3rd time staying charm, not 5...</td>\n",
       "      <td>5</td>\n",
       "      <td>733</td>\n",
       "      <td>121</td>\n",
       "      <td>1</td>\n",
       "      <td>best kept secret time staying charm star beat ...</td>\n",
       "      <td>[best, kept, secret, time, staying, charm, sta...</td>\n",
       "      <td>0.209229</td>\n",
       "    </tr>\n",
       "    <tr>\n",
       "      <th>20487</th>\n",
       "      <td>great location price view hotel great quick pl...</td>\n",
       "      <td>4</td>\n",
       "      <td>306</td>\n",
       "      <td>40</td>\n",
       "      <td>1</td>\n",
       "      <td>great location price view hotel great quick pl...</td>\n",
       "      <td>[great, location, price, view, hotel, great, q...</td>\n",
       "      <td>0.463333</td>\n",
       "    </tr>\n",
       "    <tr>\n",
       "      <th>20488</th>\n",
       "      <td>ok just looks nice modern outside, desk staff ...</td>\n",
       "      <td>2</td>\n",
       "      <td>443</td>\n",
       "      <td>70</td>\n",
       "      <td>1</td>\n",
       "      <td>look nice modern outside desk staff particular...</td>\n",
       "      <td>[look, nice, modern, outside, desk, staff, par...</td>\n",
       "      <td>0.145929</td>\n",
       "    </tr>\n",
       "    <tr>\n",
       "      <th>20489</th>\n",
       "      <td>hotel theft ruined vacation hotel opened sept ...</td>\n",
       "      <td>1</td>\n",
       "      <td>5557</td>\n",
       "      <td>836</td>\n",
       "      <td>1</td>\n",
       "      <td>hotel theft ruined vacation hotel opened sept ...</td>\n",
       "      <td>[hotel, theft, ruined, vacation, hotel, opened...</td>\n",
       "      <td>0.145881</td>\n",
       "    </tr>\n",
       "    <tr>\n",
       "      <th>20490</th>\n",
       "      <td>people talking, ca n't believe excellent ratin...</td>\n",
       "      <td>2</td>\n",
       "      <td>620</td>\n",
       "      <td>102</td>\n",
       "      <td>1</td>\n",
       "      <td>people talking believe excellent rating hotel ...</td>\n",
       "      <td>[people, talking, believe, excellent, rating, ...</td>\n",
       "      <td>0.110615</td>\n",
       "    </tr>\n",
       "  </tbody>\n",
       "</table>\n",
       "<p>20491 rows × 8 columns</p>\n",
       "</div>"
      ],
      "text/plain": [
       "                                                  Review  Rating  \\\n",
       "0      nice hotel expensive parking got good deal sta...       4   \n",
       "1      ok nothing special charge diamond member hilto...       2   \n",
       "2      nice rooms not 4* experience hotel monaco seat...       3   \n",
       "3      unique, great stay, wonderful time hotel monac...       5   \n",
       "4      great stay great stay, went seahawk game aweso...       5   \n",
       "...                                                  ...     ...   \n",
       "20486  best kept secret 3rd time staying charm, not 5...       5   \n",
       "20487  great location price view hotel great quick pl...       4   \n",
       "20488  ok just looks nice modern outside, desk staff ...       2   \n",
       "20489  hotel theft ruined vacation hotel opened sept ...       1   \n",
       "20490  people talking, ca n't believe excellent ratin...       2   \n",
       "\n",
       "       num_characters  num_words  num_sentences  \\\n",
       "0                 593         98              1   \n",
       "1                1689        270              1   \n",
       "2                1427        236              2   \n",
       "3                 600        102              1   \n",
       "4                1281        224              1   \n",
       "...               ...        ...            ...   \n",
       "20486             733        121              1   \n",
       "20487             306         40              1   \n",
       "20488             443         70              1   \n",
       "20489            5557        836              1   \n",
       "20490             620        102              1   \n",
       "\n",
       "                                          cleaned_review  \\\n",
       "0      nice hotel expensive parking got good deal sta...   \n",
       "1      nothing special charge diamond member hilton d...   \n",
       "2      nice room experience hotel monaco seattle good...   \n",
       "3      unique great stay wonderful time hotel monaco ...   \n",
       "4      great stay great stay went seahawk game awesom...   \n",
       "...                                                  ...   \n",
       "20486  best kept secret time staying charm star beat ...   \n",
       "20487  great location price view hotel great quick pl...   \n",
       "20488  look nice modern outside desk staff particular...   \n",
       "20489  hotel theft ruined vacation hotel opened sept ...   \n",
       "20490  people talking believe excellent rating hotel ...   \n",
       "\n",
       "                                      lemmatized_content  sentiment  \n",
       "0      [nice, hotel, expensive, parking, got, good, d...   0.208744  \n",
       "1      [nothing, special, charge, diamond, member, hi...   0.238948  \n",
       "2      [nice, room, experience, hotel, monaco, seattl...   0.266138  \n",
       "3      [unique, great, stay, wonderful, time, hotel, ...   0.504825  \n",
       "4      [great, stay, great, stay, went, seahawk, game...   0.469643  \n",
       "...                                                  ...        ...  \n",
       "20486  [best, kept, secret, time, staying, charm, sta...   0.209229  \n",
       "20487  [great, location, price, view, hotel, great, q...   0.463333  \n",
       "20488  [look, nice, modern, outside, desk, staff, par...   0.145929  \n",
       "20489  [hotel, theft, ruined, vacation, hotel, opened...   0.145881  \n",
       "20490  [people, talking, believe, excellent, rating, ...   0.110615  \n",
       "\n",
       "[20491 rows x 8 columns]"
      ]
     },
     "execution_count": 91,
     "metadata": {},
     "output_type": "execute_result"
    }
   ],
   "source": [
    "review_content['sentiment']=review_content['cleaned_review'].apply(lambda x : TextBlob(x).sentiment.polarity)\n",
    "review_content"
   ]
  },
  {
   "cell_type": "code",
   "execution_count": 92,
   "id": "232acf80",
   "metadata": {},
   "outputs": [],
   "source": [
    "def assign_Result(marks):\n",
    "    if marks < 0:\n",
    "        result = 'negative'\n",
    "    elif marks >= 0:\n",
    "        result = 'positive'\n",
    "\n",
    "    return result"
   ]
  },
  {
   "cell_type": "code",
   "execution_count": 93,
   "id": "685ae4ff",
   "metadata": {},
   "outputs": [
    {
     "data": {
      "text/html": [
       "<div>\n",
       "<style scoped>\n",
       "    .dataframe tbody tr th:only-of-type {\n",
       "        vertical-align: middle;\n",
       "    }\n",
       "\n",
       "    .dataframe tbody tr th {\n",
       "        vertical-align: top;\n",
       "    }\n",
       "\n",
       "    .dataframe thead th {\n",
       "        text-align: right;\n",
       "    }\n",
       "</style>\n",
       "<table border=\"1\" class=\"dataframe\">\n",
       "  <thead>\n",
       "    <tr style=\"text-align: right;\">\n",
       "      <th></th>\n",
       "      <th>Review</th>\n",
       "      <th>Rating</th>\n",
       "      <th>num_characters</th>\n",
       "      <th>num_words</th>\n",
       "      <th>num_sentences</th>\n",
       "      <th>cleaned_review</th>\n",
       "      <th>lemmatized_content</th>\n",
       "      <th>sentiment</th>\n",
       "      <th>review_segment</th>\n",
       "    </tr>\n",
       "  </thead>\n",
       "  <tbody>\n",
       "    <tr>\n",
       "      <th>0</th>\n",
       "      <td>nice hotel expensive parking got good deal sta...</td>\n",
       "      <td>4</td>\n",
       "      <td>593</td>\n",
       "      <td>98</td>\n",
       "      <td>1</td>\n",
       "      <td>nice hotel expensive parking got good deal sta...</td>\n",
       "      <td>[nice, hotel, expensive, parking, got, good, d...</td>\n",
       "      <td>0.208744</td>\n",
       "      <td>positive</td>\n",
       "    </tr>\n",
       "    <tr>\n",
       "      <th>1</th>\n",
       "      <td>ok nothing special charge diamond member hilto...</td>\n",
       "      <td>2</td>\n",
       "      <td>1689</td>\n",
       "      <td>270</td>\n",
       "      <td>1</td>\n",
       "      <td>nothing special charge diamond member hilton d...</td>\n",
       "      <td>[nothing, special, charge, diamond, member, hi...</td>\n",
       "      <td>0.238948</td>\n",
       "      <td>positive</td>\n",
       "    </tr>\n",
       "    <tr>\n",
       "      <th>2</th>\n",
       "      <td>nice rooms not 4* experience hotel monaco seat...</td>\n",
       "      <td>3</td>\n",
       "      <td>1427</td>\n",
       "      <td>236</td>\n",
       "      <td>2</td>\n",
       "      <td>nice room experience hotel monaco seattle good...</td>\n",
       "      <td>[nice, room, experience, hotel, monaco, seattl...</td>\n",
       "      <td>0.266138</td>\n",
       "      <td>positive</td>\n",
       "    </tr>\n",
       "    <tr>\n",
       "      <th>3</th>\n",
       "      <td>unique, great stay, wonderful time hotel monac...</td>\n",
       "      <td>5</td>\n",
       "      <td>600</td>\n",
       "      <td>102</td>\n",
       "      <td>1</td>\n",
       "      <td>unique great stay wonderful time hotel monaco ...</td>\n",
       "      <td>[unique, great, stay, wonderful, time, hotel, ...</td>\n",
       "      <td>0.504825</td>\n",
       "      <td>positive</td>\n",
       "    </tr>\n",
       "    <tr>\n",
       "      <th>4</th>\n",
       "      <td>great stay great stay, went seahawk game aweso...</td>\n",
       "      <td>5</td>\n",
       "      <td>1281</td>\n",
       "      <td>224</td>\n",
       "      <td>1</td>\n",
       "      <td>great stay great stay went seahawk game awesom...</td>\n",
       "      <td>[great, stay, great, stay, went, seahawk, game...</td>\n",
       "      <td>0.469643</td>\n",
       "      <td>positive</td>\n",
       "    </tr>\n",
       "  </tbody>\n",
       "</table>\n",
       "</div>"
      ],
      "text/plain": [
       "                                              Review  Rating  num_characters  \\\n",
       "0  nice hotel expensive parking got good deal sta...       4             593   \n",
       "1  ok nothing special charge diamond member hilto...       2            1689   \n",
       "2  nice rooms not 4* experience hotel monaco seat...       3            1427   \n",
       "3  unique, great stay, wonderful time hotel monac...       5             600   \n",
       "4  great stay great stay, went seahawk game aweso...       5            1281   \n",
       "\n",
       "   num_words  num_sentences  \\\n",
       "0         98              1   \n",
       "1        270              1   \n",
       "2        236              2   \n",
       "3        102              1   \n",
       "4        224              1   \n",
       "\n",
       "                                      cleaned_review  \\\n",
       "0  nice hotel expensive parking got good deal sta...   \n",
       "1  nothing special charge diamond member hilton d...   \n",
       "2  nice room experience hotel monaco seattle good...   \n",
       "3  unique great stay wonderful time hotel monaco ...   \n",
       "4  great stay great stay went seahawk game awesom...   \n",
       "\n",
       "                                  lemmatized_content  sentiment review_segment  \n",
       "0  [nice, hotel, expensive, parking, got, good, d...   0.208744       positive  \n",
       "1  [nothing, special, charge, diamond, member, hi...   0.238948       positive  \n",
       "2  [nice, room, experience, hotel, monaco, seattl...   0.266138       positive  \n",
       "3  [unique, great, stay, wonderful, time, hotel, ...   0.504825       positive  \n",
       "4  [great, stay, great, stay, went, seahawk, game...   0.469643       positive  "
      ]
     },
     "execution_count": 93,
     "metadata": {},
     "output_type": "execute_result"
    }
   ],
   "source": [
    "review_content['review_segment']=review_content['sentiment'].apply(assign_Result)\n",
    "review_content.head()"
   ]
  },
  {
   "cell_type": "code",
   "execution_count": 94,
   "id": "9cfec741",
   "metadata": {},
   "outputs": [
    {
     "data": {
      "image/png": "[encoded data removed]",
      "text/plain": [
       "<Figure size 576x432 with 1 Axes>"
      ]
     },
     "metadata": {
      "needs_background": "light"
     },
     "output_type": "display_data"
    }
   ],
   "source": [
    "from six import text_type\n",
    "x=review_content['review_segment'].value_counts()\n",
    "plt.figure(figsize=(8,6))\n",
    "sns.barplot(x.index,x.values)\n",
    "plt.title('Result Distribution ')\n",
    "plt.ylabel('Frequency', fontsize=10)\n",
    "plt.yticks(fontsize=10)\n",
    "plt.xlabel('Hotel reviews', fontsize=10)\n",
    "plt.xticks(fontsize=10)\n",
    "plt.show()"
   ]
  },
  {
   "cell_type": "code",
   "execution_count": 95,
   "id": "d3a8ff5a",
   "metadata": {},
   "outputs": [
    {
     "data": {
      "image/png": "[encoded data removed]",
      "text/plain": [
       "<Figure size 720x504 with 1 Axes>"
      ]
     },
     "metadata": {},
     "output_type": "display_data"
    }
   ],
   "source": [
    "plt.figure(figsize=(10,7))\n",
    "review_content['review_segment'].value_counts().plot(kind='pie',autopct='%1.0f%%')\n",
    "plt.show()"
   ]
  },
  {
   "cell_type": "code",
   "execution_count": 96,
   "id": "74ee3ac0",
   "metadata": {},
   "outputs": [
    {
     "data": {
      "image/png": "[encoded data removed]",
      "text/plain": [
       "<Figure size 648x504 with 1 Axes>"
      ]
     },
     "metadata": {
      "needs_background": "light"
     },
     "output_type": "display_data"
    }
   ],
   "source": [
    "x=review_content['Rating'].value_counts()\n",
    "plt.figure(figsize=(9,7))\n",
    "sns.barplot(x.index,x.values)\n",
    "plt.title('Result Distribution ')\n",
    "plt.ylabel('Frequency', fontsize=10)\n",
    "plt.yticks(fontsize=10)\n",
    "plt.xlabel('Hotel Reviews', fontsize=10)\n",
    "plt.xticks(fontsize=10)\n",
    "plt.show()"
   ]
  },
  {
   "cell_type": "code",
   "execution_count": 97,
   "id": "ceb80c89",
   "metadata": {},
   "outputs": [
    {
     "data": {
      "image/png": "[encoded data removed]",
      "text/plain": [
       "<Figure size 720x576 with 1 Axes>"
      ]
     },
     "metadata": {},
     "output_type": "display_data"
    }
   ],
   "source": [
    "plt.figure(figsize=(10,8))\n",
    "review_content['Rating'].value_counts().plot(kind='pie',autopct='%1.0f%%')\n",
    "plt.show()"
   ]
  },
  {
   "cell_type": "code",
   "execution_count": 98,
   "id": "73c812b7",
   "metadata": {},
   "outputs": [],
   "source": [
    "# Most common words"
   ]
  },
  {
   "cell_type": "code",
   "execution_count": 99,
   "id": "e2deabcd",
   "metadata": {},
   "outputs": [
    {
     "data": {
      "text/plain": [
       "0         543\n",
       "1        1539\n",
       "2        1264\n",
       "3         557\n",
       "4        1150\n",
       "         ... \n",
       "20486     666\n",
       "20487     294\n",
       "20488     406\n",
       "20489    5157\n",
       "20490     565\n",
       "Name: result_len, Length: 20491, dtype: int64"
      ]
     },
     "execution_count": 99,
     "metadata": {},
     "output_type": "execute_result"
    }
   ],
   "source": [
    "tokenizer = RegexpTokenizer(r'\\w+')\n",
    "review_content['word_count'] = review_content['cleaned_review'].apply(lambda x: len(str(x).split()))\n",
    "review_content['result_len'] = review_content['cleaned_review'].astype(str).apply(len)\n",
    "review_content['result_len']"
   ]
  },
  {
   "cell_type": "code",
   "execution_count": 100,
   "id": "779c40e7",
   "metadata": {},
   "outputs": [
    {
     "data": {
      "image/png": "[encoded data removed]",
      "text/plain": [
       "<Figure size 1440x720 with 1 Axes>"
      ]
     },
     "metadata": {
      "needs_background": "light"
     },
     "output_type": "display_data"
    }
   ],
   "source": [
    "review_content.groupby('Rating')['result_len'].mean().plot(kind='bar',figsize=(20,10))\n",
    "plt.xlabel('Result')\n",
    "plt.ylabel('Count of Letters in Review')\n",
    "plt.title('Number of review length per Rating', fontsize=20)\n",
    "plt.show()"
   ]
  },
  {
   "cell_type": "code",
   "execution_count": 101,
   "id": "dec73a76",
   "metadata": {},
   "outputs": [
    {
     "data": {
      "image/png": "[encoded data removed]",
      "text/plain": [
       "<Figure size 1440x720 with 1 Axes>"
      ]
     },
     "metadata": {
      "needs_background": "light"
     },
     "output_type": "display_data"
    }
   ],
   "source": [
    "review_content.groupby('Rating')['word_count'].mean().plot(kind='bar',figsize=(20,10))\n",
    "plt.xlabel('Rating')\n",
    "plt.ylabel('Count of Words in Result')\n",
    "plt.title('Number of words per Rating', fontsize=20)\n",
    "plt.show()"
   ]
  },
  {
   "cell_type": "code",
   "execution_count": 102,
   "id": "c11be5ce",
   "metadata": {},
   "outputs": [
    {
     "name": "stderr",
     "output_type": "stream",
     "text": [
      "IOPub data rate exceeded.\n",
      "The notebook server will temporarily stop sending output\n",
      "to the client in order to avoid crashing it.\n",
      "To change this limit, set the config variable\n",
      "`--NotebookApp.iopub_data_rate_limit`.\n",
      "\n",
      "Current values:\n",
      "NotebookApp.iopub_data_rate_limit=1000000.0 (bytes/sec)\n",
      "NotebookApp.rate_limit_window=3.0 (secs)\n",
      "\n"
     ]
    }
   ],
   "source": [
    "words=review_content['lemmatized_content']\n",
    "allwords=[]\n",
    "for wordlist in words:\n",
    "    allwords+=wordlist\n",
    "print(allwords)\n",
    "print('length of all words : ',len(allwords))"
   ]
  },
  {
   "cell_type": "code",
   "execution_count": 103,
   "id": "1940849d",
   "metadata": {},
   "outputs": [],
   "source": [
    "from nltk.probability import FreqDist\n",
    "mostcommon=FreqDist(allwords).most_common(100)\n",
    "#mostcommon"
   ]
  },
  {
   "cell_type": "code",
   "execution_count": 104,
   "id": "3419e50d",
   "metadata": {},
   "outputs": [
    {
     "name": "stdout",
     "output_type": "stream",
     "text": [
      "Requirement already satisfied: wordcloud in c:\\users\\anura\\anaconda3\\lib\\site-packages (1.9.2)\n",
      "Requirement already satisfied: numpy>=1.6.1 in c:\\users\\anura\\anaconda3\\lib\\site-packages (from wordcloud) (1.22.4)\n",
      "Requirement already satisfied: pillow in c:\\users\\anura\\anaconda3\\lib\\site-packages (from wordcloud) (9.0.1)\n",
      "Requirement already satisfied: matplotlib in c:\\users\\anura\\anaconda3\\lib\\site-packages (from wordcloud) (3.5.1)\n",
      "Requirement already satisfied: cycler>=0.10 in c:\\users\\anura\\anaconda3\\lib\\site-packages (from matplotlib->wordcloud) (0.11.0)\n",
      "Requirement already satisfied: fonttools>=4.22.0 in c:\\users\\anura\\anaconda3\\lib\\site-packages (from matplotlib->wordcloud) (4.25.0)\n",
      "Requirement already satisfied: kiwisolver>=1.0.1 in c:\\users\\anura\\anaconda3\\lib\\site-packages (from matplotlib->wordcloud) (1.3.2)\n",
      "Requirement already satisfied: packaging>=20.0 in c:\\users\\anura\\anaconda3\\lib\\site-packages (from matplotlib->wordcloud) (21.3)\n",
      "Requirement already satisfied: pyparsing>=2.2.1 in c:\\users\\anura\\anaconda3\\lib\\site-packages (from matplotlib->wordcloud) (3.0.4)\n",
      "Requirement already satisfied: python-dateutil>=2.7 in c:\\users\\anura\\anaconda3\\lib\\site-packages (from matplotlib->wordcloud) (2.8.2)\n",
      "Requirement already satisfied: six>=1.5 in c:\\users\\anura\\anaconda3\\lib\\site-packages (from python-dateutil>=2.7->matplotlib->wordcloud) (1.16.0)\n",
      "Note: you may need to restart the kernel to use updated packages.\n"
     ]
    }
   ],
   "source": [
    "pip install wordcloud"
   ]
  },
  {
   "cell_type": "code",
   "execution_count": 105,
   "id": "917bef98",
   "metadata": {},
   "outputs": [],
   "source": [
    "from wordcloud import WordCloud, ImageColorGenerator"
   ]
  },
  {
   "cell_type": "code",
   "execution_count": 106,
   "id": "516be002",
   "metadata": {},
   "outputs": [
    {
     "ename": "ValueError",
     "evalue": "Only supported for TrueType fonts",
     "output_type": "error",
     "traceback": [
      "\u001b[1;31m---------------------------------------------------------------------------\u001b[0m",
      "\u001b[1;31mValueError\u001b[0m                                Traceback (most recent call last)",
      "Input \u001b[1;32mIn [106]\u001b[0m, in \u001b[0;36m<cell line: 2>\u001b[1;34m()\u001b[0m\n\u001b[0;32m      1\u001b[0m \u001b[38;5;28;01mfrom\u001b[39;00m \u001b[38;5;21;01mwordcloud\u001b[39;00m \u001b[38;5;28;01mimport\u001b[39;00m WordCloud, ImageColorGenerator\n\u001b[1;32m----> 2\u001b[0m wordcloud\u001b[38;5;241m=\u001b[39m\u001b[43mWordCloud\u001b[49m\u001b[43m(\u001b[49m\u001b[43mwidth\u001b[49m\u001b[38;5;241;43m=\u001b[39;49m\u001b[38;5;241;43m1000\u001b[39;49m\u001b[43m,\u001b[49m\u001b[43m \u001b[49m\u001b[43mheight\u001b[49m\u001b[38;5;241;43m=\u001b[39;49m\u001b[38;5;241;43m600\u001b[39;49m\u001b[43m,\u001b[49m\u001b[43m \u001b[49m\u001b[43mbackground_color\u001b[49m\u001b[38;5;241;43m=\u001b[39;49m\u001b[38;5;124;43m'\u001b[39;49m\u001b[38;5;124;43mblack\u001b[39;49m\u001b[38;5;124;43m'\u001b[39;49m\u001b[43m)\u001b[49m\u001b[38;5;241;43m.\u001b[39;49m\u001b[43mgenerate\u001b[49m\u001b[43m(\u001b[49m\u001b[38;5;28;43mstr\u001b[39;49m\u001b[43m(\u001b[49m\u001b[43mmostcommon\u001b[49m\u001b[43m)\u001b[49m\u001b[43m)\u001b[49m\n\u001b[0;32m      3\u001b[0m fig \u001b[38;5;241m=\u001b[39m plt\u001b[38;5;241m.\u001b[39mfigure(figsize\u001b[38;5;241m=\u001b[39m(\u001b[38;5;241m12\u001b[39m,\u001b[38;5;241m7\u001b[39m), facecolor\u001b[38;5;241m=\u001b[39m\u001b[38;5;124m'\u001b[39m\u001b[38;5;124mwhite\u001b[39m\u001b[38;5;124m'\u001b[39m)\n\u001b[0;32m      4\u001b[0m plt\u001b[38;5;241m.\u001b[39mtitle(\u001b[38;5;124m'\u001b[39m\u001b[38;5;124mTop 100 Most Common Words\u001b[39m\u001b[38;5;124m'\u001b[39m, fontsize\u001b[38;5;241m=\u001b[39m\u001b[38;5;241m50\u001b[39m)\n",
      "File \u001b[1;32m~\\anaconda3\\lib\\site-packages\\wordcloud\\wordcloud.py:639\u001b[0m, in \u001b[0;36mWordCloud.generate\u001b[1;34m(self, text)\u001b[0m\n\u001b[0;32m    624\u001b[0m \u001b[38;5;28;01mdef\u001b[39;00m \u001b[38;5;21mgenerate\u001b[39m(\u001b[38;5;28mself\u001b[39m, text):\n\u001b[0;32m    625\u001b[0m \u001b[38;5;250m    \u001b[39m\u001b[38;5;124;03m\"\"\"Generate wordcloud from text.\u001b[39;00m\n\u001b[0;32m    626\u001b[0m \n\u001b[0;32m    627\u001b[0m \u001b[38;5;124;03m    The input \"text\" is expected to be a natural text. If you pass a sorted\u001b[39;00m\n\u001b[1;32m   (...)\u001b[0m\n\u001b[0;32m    637\u001b[0m \u001b[38;5;124;03m    self\u001b[39;00m\n\u001b[0;32m    638\u001b[0m \u001b[38;5;124;03m    \"\"\"\u001b[39;00m\n\u001b[1;32m--> 639\u001b[0m     \u001b[38;5;28;01mreturn\u001b[39;00m \u001b[38;5;28;43mself\u001b[39;49m\u001b[38;5;241;43m.\u001b[39;49m\u001b[43mgenerate_from_text\u001b[49m\u001b[43m(\u001b[49m\u001b[43mtext\u001b[49m\u001b[43m)\u001b[49m\n",
      "File \u001b[1;32m~\\anaconda3\\lib\\site-packages\\wordcloud\\wordcloud.py:621\u001b[0m, in \u001b[0;36mWordCloud.generate_from_text\u001b[1;34m(self, text)\u001b[0m\n\u001b[0;32m    604\u001b[0m \u001b[38;5;250m\u001b[39m\u001b[38;5;124;03m\"\"\"Generate wordcloud from text.\u001b[39;00m\n\u001b[0;32m    605\u001b[0m \n\u001b[0;32m    606\u001b[0m \u001b[38;5;124;03mThe input \"text\" is expected to be a natural text. If you pass a sorted\u001b[39;00m\n\u001b[1;32m   (...)\u001b[0m\n\u001b[0;32m    618\u001b[0m \u001b[38;5;124;03mself\u001b[39;00m\n\u001b[0;32m    619\u001b[0m \u001b[38;5;124;03m\"\"\"\u001b[39;00m\n\u001b[0;32m    620\u001b[0m words \u001b[38;5;241m=\u001b[39m \u001b[38;5;28mself\u001b[39m\u001b[38;5;241m.\u001b[39mprocess_text(text)\n\u001b[1;32m--> 621\u001b[0m \u001b[38;5;28;43mself\u001b[39;49m\u001b[38;5;241;43m.\u001b[39;49m\u001b[43mgenerate_from_frequencies\u001b[49m\u001b[43m(\u001b[49m\u001b[43mwords\u001b[49m\u001b[43m)\u001b[49m\n\u001b[0;32m    622\u001b[0m \u001b[38;5;28;01mreturn\u001b[39;00m \u001b[38;5;28mself\u001b[39m\n",
      "File \u001b[1;32m~\\anaconda3\\lib\\site-packages\\wordcloud\\wordcloud.py:453\u001b[0m, in \u001b[0;36mWordCloud.generate_from_frequencies\u001b[1;34m(self, frequencies, max_font_size)\u001b[0m\n\u001b[0;32m    451\u001b[0m     font_size \u001b[38;5;241m=\u001b[39m \u001b[38;5;28mself\u001b[39m\u001b[38;5;241m.\u001b[39mheight\n\u001b[0;32m    452\u001b[0m \u001b[38;5;28;01melse\u001b[39;00m:\n\u001b[1;32m--> 453\u001b[0m     \u001b[38;5;28;43mself\u001b[39;49m\u001b[38;5;241;43m.\u001b[39;49m\u001b[43mgenerate_from_frequencies\u001b[49m\u001b[43m(\u001b[49m\u001b[38;5;28;43mdict\u001b[39;49m\u001b[43m(\u001b[49m\u001b[43mfrequencies\u001b[49m\u001b[43m[\u001b[49m\u001b[43m:\u001b[49m\u001b[38;5;241;43m2\u001b[39;49m\u001b[43m]\u001b[49m\u001b[43m)\u001b[49m\u001b[43m,\u001b[49m\n\u001b[0;32m    454\u001b[0m \u001b[43m                                   \u001b[49m\u001b[43mmax_font_size\u001b[49m\u001b[38;5;241;43m=\u001b[39;49m\u001b[38;5;28;43mself\u001b[39;49m\u001b[38;5;241;43m.\u001b[39;49m\u001b[43mheight\u001b[49m\u001b[43m)\u001b[49m\n\u001b[0;32m    455\u001b[0m     \u001b[38;5;66;03m# find font sizes\u001b[39;00m\n\u001b[0;32m    456\u001b[0m     sizes \u001b[38;5;241m=\u001b[39m [x[\u001b[38;5;241m1\u001b[39m] \u001b[38;5;28;01mfor\u001b[39;00m x \u001b[38;5;129;01min\u001b[39;00m \u001b[38;5;28mself\u001b[39m\u001b[38;5;241m.\u001b[39mlayout_]\n",
      "File \u001b[1;32m~\\anaconda3\\lib\\site-packages\\wordcloud\\wordcloud.py:508\u001b[0m, in \u001b[0;36mWordCloud.generate_from_frequencies\u001b[1;34m(self, frequencies, max_font_size)\u001b[0m\n\u001b[0;32m    505\u001b[0m transposed_font \u001b[38;5;241m=\u001b[39m ImageFont\u001b[38;5;241m.\u001b[39mTransposedFont(\n\u001b[0;32m    506\u001b[0m     font, orientation\u001b[38;5;241m=\u001b[39morientation)\n\u001b[0;32m    507\u001b[0m \u001b[38;5;66;03m# get size of resulting text\u001b[39;00m\n\u001b[1;32m--> 508\u001b[0m box_size \u001b[38;5;241m=\u001b[39m \u001b[43mdraw\u001b[49m\u001b[38;5;241;43m.\u001b[39;49m\u001b[43mtextbbox\u001b[49m\u001b[43m(\u001b[49m\u001b[43m(\u001b[49m\u001b[38;5;241;43m0\u001b[39;49m\u001b[43m,\u001b[49m\u001b[43m \u001b[49m\u001b[38;5;241;43m0\u001b[39;49m\u001b[43m)\u001b[49m\u001b[43m,\u001b[49m\u001b[43m \u001b[49m\u001b[43mword\u001b[49m\u001b[43m,\u001b[49m\u001b[43m \u001b[49m\u001b[43mfont\u001b[49m\u001b[38;5;241;43m=\u001b[39;49m\u001b[43mtransposed_font\u001b[49m\u001b[43m,\u001b[49m\u001b[43m \u001b[49m\u001b[43manchor\u001b[49m\u001b[38;5;241;43m=\u001b[39;49m\u001b[38;5;124;43m\"\u001b[39;49m\u001b[38;5;124;43mlt\u001b[39;49m\u001b[38;5;124;43m\"\u001b[39;49m\u001b[43m)\u001b[49m\n\u001b[0;32m    509\u001b[0m \u001b[38;5;66;03m# find possible places using integral image:\u001b[39;00m\n\u001b[0;32m    510\u001b[0m result \u001b[38;5;241m=\u001b[39m occupancy\u001b[38;5;241m.\u001b[39msample_position(box_size[\u001b[38;5;241m3\u001b[39m] \u001b[38;5;241m+\u001b[39m \u001b[38;5;28mself\u001b[39m\u001b[38;5;241m.\u001b[39mmargin,\n\u001b[0;32m    511\u001b[0m                                    box_size[\u001b[38;5;241m2\u001b[39m] \u001b[38;5;241m+\u001b[39m \u001b[38;5;28mself\u001b[39m\u001b[38;5;241m.\u001b[39mmargin,\n\u001b[0;32m    512\u001b[0m                                    random_state)\n",
      "File \u001b[1;32m~\\anaconda3\\lib\\site-packages\\PIL\\ImageDraw.py:671\u001b[0m, in \u001b[0;36mImageDraw.textbbox\u001b[1;34m(self, xy, text, font, anchor, spacing, align, direction, features, language, stroke_width, embedded_color)\u001b[0m\n\u001b[0;32m    669\u001b[0m     font \u001b[38;5;241m=\u001b[39m \u001b[38;5;28mself\u001b[39m\u001b[38;5;241m.\u001b[39mgetfont()\n\u001b[0;32m    670\u001b[0m \u001b[38;5;28;01mif\u001b[39;00m \u001b[38;5;129;01mnot\u001b[39;00m \u001b[38;5;28misinstance\u001b[39m(font, ImageFont\u001b[38;5;241m.\u001b[39mFreeTypeFont):\n\u001b[1;32m--> 671\u001b[0m     \u001b[38;5;28;01mraise\u001b[39;00m \u001b[38;5;167;01mValueError\u001b[39;00m(\u001b[38;5;124m\"\u001b[39m\u001b[38;5;124mOnly supported for TrueType fonts\u001b[39m\u001b[38;5;124m\"\u001b[39m)\n\u001b[0;32m    672\u001b[0m mode \u001b[38;5;241m=\u001b[39m \u001b[38;5;124m\"\u001b[39m\u001b[38;5;124mRGBA\u001b[39m\u001b[38;5;124m\"\u001b[39m \u001b[38;5;28;01mif\u001b[39;00m embedded_color \u001b[38;5;28;01melse\u001b[39;00m \u001b[38;5;28mself\u001b[39m\u001b[38;5;241m.\u001b[39mfontmode\n\u001b[0;32m    673\u001b[0m bbox \u001b[38;5;241m=\u001b[39m font\u001b[38;5;241m.\u001b[39mgetbbox(\n\u001b[0;32m    674\u001b[0m     text, mode, direction, features, language, stroke_width, anchor\n\u001b[0;32m    675\u001b[0m )\n",
      "\u001b[1;31mValueError\u001b[0m: Only supported for TrueType fonts"
     ]
    }
   ],
   "source": [
    "from wordcloud import WordCloud, ImageColorGenerator\n",
    "wordcloud=WordCloud(width=1000, height=600, background_color='black').generate(str(mostcommon))\n",
    "fig = plt.figure(figsize=(12,7), facecolor='white')\n",
    "plt.title('Top 100 Most Common Words', fontsize=50)\n",
    "plt.axis('off')\n",
    "plt.imshow(wordcloud, interpolation=\"bilinear\")\n",
    "plt.tight_layout(pad=0)\n",
    "plt.show()"
   ]
  },
  {
   "cell_type": "code",
   "execution_count": 107,
   "id": "3cf5671b",
   "metadata": {},
   "outputs": [
    {
     "data": {
      "text/plain": [
       "Rating\n",
       "1    [(room, 4294), (hotel, 4002), (stay, 1246), (d...\n",
       "2    [(room, 5772), (hotel, 4657), (night, 1618), (...\n",
       "3    [(room, 6128), (hotel, 5628), (good, 2523), (n...\n",
       "4    [(hotel, 15535), (room, 14238), (great, 7572),...\n",
       "5    [(hotel, 24164), (room, 17314), (great, 10886)...\n",
       "Name: cleaned_review, dtype: object"
      ]
     },
     "execution_count": 107,
     "metadata": {},
     "output_type": "execute_result"
    }
   ],
   "source": [
    "from collections import Counter\n",
    "mostfreq=review_content.groupby('Rating')['cleaned_review'].apply(lambda x : Counter(' '.join(x).split()).most_common(25))\n",
    "mostfreq"
   ]
  },
  {
   "cell_type": "code",
   "execution_count": 108,
   "id": "c248d27c",
   "metadata": {},
   "outputs": [
    {
     "data": {
      "image/png": "[encoded data removed]",
      "text/plain": [
       "<Figure size 720x504 with 1 Axes>"
      ]
     },
     "metadata": {
      "needs_background": "light"
     },
     "output_type": "display_data"
    }
   ],
   "source": [
    "neagtive=mostfreq.iloc[0]\n",
    "words=list(zip(*neagtive))[0]\n",
    "freq=list(zip(*neagtive))[1]\n",
    "\n",
    "\n",
    "plt.figure(figsize=(10,7))\n",
    "plt.bar(words, freq)\n",
    "plt.xlabel('Words', fontsize=10)\n",
    "plt.ylabel('Frequency of Words', fontsize=10)\n",
    "plt.yticks(fontsize=10)\n",
    "plt.xticks(rotation=90, fontsize=10)\n",
    "plt.title('Frequency of 25 Most Common Words for neagtive Review ', fontsize=25)\n",
    "plt.show()"
   ]
  },
  {
   "cell_type": "code",
   "execution_count": 109,
   "id": "ce8f1ceb",
   "metadata": {},
   "outputs": [
    {
     "data": {
      "image/png": "[encoded data removed]",
      "text/plain": [
       "<Figure size 720x504 with 1 Axes>"
      ]
     },
     "metadata": {
      "needs_background": "light"
     },
     "output_type": "display_data"
    }
   ],
   "source": [
    "positive=mostfreq.iloc[1]\n",
    "words=list(zip(*positive))[0]\n",
    "freq=list(zip(*positive))[1]\n",
    "\n",
    "\n",
    "plt.figure(figsize=(10,7))\n",
    "plt.bar(words, freq)\n",
    "plt.xlabel('Words', fontsize=10)\n",
    "plt.ylabel('Frequency of Words', fontsize=10)\n",
    "plt.yticks(fontsize=10)\n",
    "plt.xticks(rotation=90, fontsize=10)\n",
    "plt.title('Frequency of 25 Most Common Words for positive Review ', fontsize=25)\n",
    "plt.show()"
   ]
  },
  {
   "cell_type": "code",
   "execution_count": 110,
   "id": "c19d0bb9",
   "metadata": {},
   "outputs": [
    {
     "data": {
      "image/png": "[encoded data removed]",
      "text/plain": [
       "<Figure size 720x504 with 1 Axes>"
      ]
     },
     "metadata": {
      "needs_background": "light"
     },
     "output_type": "display_data"
    }
   ],
   "source": [
    "rating_1=mostfreq.iloc[0]\n",
    "words=list(zip(*rating_1))[0]\n",
    "freq=list(zip(*rating_1))[1]\n",
    "\n",
    "\n",
    "plt.figure(figsize=(10,7))\n",
    "plt.bar(words, freq)\n",
    "plt.xlabel('Words', fontsize=10)\n",
    "plt.ylabel('Frequency of Words', fontsize=10)\n",
    "plt.yticks(fontsize=10)\n",
    "plt.xticks(rotation=90, fontsize=10)\n",
    "plt.title('Frequency of 25 Most Common Words for rating_1 ', fontsize=20)\n",
    "plt.show()\n"
   ]
  },
  {
   "cell_type": "code",
   "execution_count": 111,
   "id": "13c8e470",
   "metadata": {},
   "outputs": [
    {
     "data": {
      "image/png": "[encoded data removed]",
      "text/plain": [
       "<Figure size 720x504 with 1 Axes>"
      ]
     },
     "metadata": {
      "needs_background": "light"
     },
     "output_type": "display_data"
    }
   ],
   "source": [
    "rating_2=mostfreq.iloc[1]\n",
    "words=list(zip(*rating_2))[0]\n",
    "freq=list(zip(*rating_2))[1]\n",
    "\n",
    "\n",
    "plt.figure(figsize=(10,7))\n",
    "plt.bar(words, freq)\n",
    "plt.xlabel('Words', fontsize=10)\n",
    "plt.ylabel('Frequency of Words', fontsize=10)\n",
    "plt.yticks(fontsize=10)\n",
    "plt.xticks(rotation=90, fontsize=10)\n",
    "plt.title('Frequency of 25 Most Common Words for rating_2 ', fontsize=20)\n",
    "plt.show()"
   ]
  },
  {
   "cell_type": "code",
   "execution_count": 112,
   "id": "c481ea4e",
   "metadata": {},
   "outputs": [
    {
     "data": {
      "image/png": "[encoded data removed]",
      "text/plain": [
       "<Figure size 720x504 with 1 Axes>"
      ]
     },
     "metadata": {
      "needs_background": "light"
     },
     "output_type": "display_data"
    }
   ],
   "source": [
    "rating_3=mostfreq.iloc[2]\n",
    "words=list(zip(*rating_3))[0]\n",
    "freq=list(zip(*rating_3))[1]\n",
    "\n",
    "\n",
    "plt.figure(figsize=(10,7))\n",
    "plt.bar(words, freq)\n",
    "plt.xlabel('Words', fontsize=10)\n",
    "plt.ylabel('Frequency of Words', fontsize=10)\n",
    "plt.yticks(fontsize=10)\n",
    "plt.xticks(rotation=90, fontsize=10)\n",
    "plt.title('Frequency of 25 Most Common Words for rating_3 ', fontsize=20)\n",
    "plt.show()"
   ]
  },
  {
   "cell_type": "code",
   "execution_count": 113,
   "id": "94304893",
   "metadata": {},
   "outputs": [
    {
     "data": {
      "image/png": "[encoded data removed]",
      "text/plain": [
       "<Figure size 720x504 with 1 Axes>"
      ]
     },
     "metadata": {
      "needs_background": "light"
     },
     "output_type": "display_data"
    }
   ],
   "source": [
    "rating_4=mostfreq.iloc[3]\n",
    "words=list(zip(*rating_4))[0]\n",
    "freq=list(zip(*rating_4))[1]\n",
    "\n",
    "\n",
    "plt.figure(figsize=(10,7))\n",
    "plt.bar(words, freq)\n",
    "plt.xlabel('Words', fontsize=10)\n",
    "plt.ylabel('Frequency of Words', fontsize=10)\n",
    "plt.yticks(fontsize=10)\n",
    "plt.xticks(rotation=90, fontsize=10)\n",
    "plt.title('Frequency of 25 Most Common Words for rating_4 ', fontsize=20)\n",
    "plt.show()"
   ]
  },
  {
   "cell_type": "code",
   "execution_count": 114,
   "id": "737a29d1",
   "metadata": {},
   "outputs": [
    {
     "data": {
      "image/png": "[encoded data removed]",
      "text/plain": [
       "<Figure size 720x504 with 1 Axes>"
      ]
     },
     "metadata": {
      "needs_background": "light"
     },
     "output_type": "display_data"
    }
   ],
   "source": [
    "rating_5=mostfreq.iloc[4]\n",
    "words=list(zip(*rating_5))[0]\n",
    "freq=list(zip(*rating_5))[1]\n",
    "\n",
    "\n",
    "plt.figure(figsize=(10,7))\n",
    "plt.bar(words, freq)\n",
    "plt.xlabel('Words', fontsize=10)\n",
    "plt.ylabel('Frequency of Words', fontsize=10)\n",
    "plt.yticks(fontsize=10)\n",
    "plt.xticks(rotation=90, fontsize=10)\n",
    "plt.title('Frequency of 25 Most Common Words for rating_5 ', fontsize=20)\n",
    "plt.show()"
   ]
  },
  {
   "cell_type": "markdown",
   "id": "5c0bbac8",
   "metadata": {},
   "source": [
    "# Vectorizing"
   ]
  },
  {
   "cell_type": "code",
   "execution_count": 115,
   "id": "29bbbd27",
   "metadata": {},
   "outputs": [],
   "source": [
    "# transform the text to numeric data\n",
    "from sklearn.feature_extraction.text import TfidfVectorizer\n",
    "tfidf_vect= TfidfVectorizer()\n",
    "X_train_tfidf = tfidf_vect.fit(review_content['cleaned_review'])"
   ]
  },
  {
   "cell_type": "code",
   "execution_count": 116,
   "id": "e9645515",
   "metadata": {},
   "outputs": [
    {
     "name": "stdout",
     "output_type": "stream",
     "text": [
      "Requirement already satisfied: xgboost in c:\\users\\anura\\anaconda3\\lib\\site-packages (2.0.0)\n",
      "Requirement already satisfied: numpy in c:\\users\\anura\\anaconda3\\lib\\site-packages (from xgboost) (1.22.4)\n",
      "Requirement already satisfied: scipy in c:\\users\\anura\\anaconda3\\lib\\site-packages (from xgboost) (1.7.3)\n",
      "Note: you may need to restart the kernel to use updated packages.\n"
     ]
    }
   ],
   "source": [
    "pip install xgboost"
   ]
  },
  {
   "cell_type": "code",
   "execution_count": 117,
   "id": "a7953894",
   "metadata": {},
   "outputs": [],
   "source": [
    "from sklearn.linear_model import LogisticRegression\n",
    "from sklearn.svm import SVC\n",
    "from sklearn.naive_bayes import MultinomialNB\n",
    "from sklearn.tree import DecisionTreeClassifier\n",
    "from sklearn.neighbors import KNeighborsClassifier\n",
    "from sklearn.ensemble import RandomForestClassifier\n",
    "from sklearn.ensemble import AdaBoostClassifier\n",
    "from sklearn.ensemble import BaggingClassifier\n",
    "from sklearn.ensemble import ExtraTreesClassifier\n",
    "from sklearn.ensemble import ExtraTreesClassifier\n",
    "from sklearn.ensemble import GradientBoostingClassifier\n",
    "from xgboost import XGBClassifier\n",
    "\n",
    "from sklearn.model_selection import train_test_split\n",
    "from sklearn.metrics import classification_report\n",
    "from sklearn.metrics import confusion_matrix\n",
    "from sklearn.metrics import precision_score, recall_score, f1_score, accuracy_score"
   ]
  },
  {
   "cell_type": "code",
   "execution_count": 118,
   "id": "7cd968d0",
   "metadata": {},
   "outputs": [],
   "source": [
    "X_train_tfidf_transform = X_train_tfidf.transform(review_content['cleaned_review'])"
   ]
  },
  {
   "cell_type": "code",
   "execution_count": 119,
   "id": "8f1bd3a9",
   "metadata": {},
   "outputs": [],
   "source": [
    "#SPLITTING THE TRAINING DATASET INTO TRAIN AND TEST\n",
    "from sklearn.model_selection import train_test_split\n",
    "X_train, X_test, y_train, y_test = train_test_split(X_train_tfidf_transform,review_content['review_segment'], test_size=0.3, random_state=30, shuffle=True)"
   ]
  },
  {
   "cell_type": "code",
   "execution_count": 120,
   "id": "2f900e26",
   "metadata": {},
   "outputs": [
    {
     "name": "stdout",
     "output_type": "stream",
     "text": [
      "(14343, 45604) (14343,)\n"
     ]
    },
    {
     "data": {
      "text/plain": [
       "((6148, 45604), (6148,))"
      ]
     },
     "execution_count": 120,
     "metadata": {},
     "output_type": "execute_result"
    }
   ],
   "source": [
    "print(X_train.shape,y_train.shape)\n",
    "X_test.shape,y_test.shape"
   ]
  },
  {
   "cell_type": "code",
   "execution_count": 121,
   "id": "c34c1f28",
   "metadata": {},
   "outputs": [],
   "source": [
    "def accuracy(y_train,y_train_pred,y_test,y_test_pred):\n",
    "    print('Train Accuracy\\n')\n",
    "    print(classification_report(y_train,y_train_pred))\n",
    "    print('\\n',confusion_matrix(y_train,y_train_pred))\n",
    "    print('\\n',accuracy_score(y_train,y_train_pred))\n",
    "    print('*'*100)\n",
    "    print('Test Accuracy\\n')\n",
    "    print(classification_report(y_test,y_test_pred))\n",
    "    print('\\n',confusion_matrix(y_test,y_test_pred))\n",
    "    print('\\n',accuracy_score(y_test,y_test_pred))  "
   ]
  },
  {
   "cell_type": "markdown",
   "id": "f9e455a2",
   "metadata": {},
   "source": [
    "# Model Building"
   ]
  },
  {
   "cell_type": "code",
   "execution_count": 122,
   "id": "a52aaeae",
   "metadata": {},
   "outputs": [],
   "source": [
    "lg = LogisticRegression()\n",
    "lg_model = lg.fit(X_train,y_train)\n",
    "y_train_pred = lg_model.predict(X_train)\n",
    "y_test_pred = lg_model.predict(X_test)"
   ]
  },
  {
   "cell_type": "code",
   "execution_count": 123,
   "id": "e388d5a4",
   "metadata": {},
   "outputs": [
    {
     "name": "stdout",
     "output_type": "stream",
     "text": [
      "Train Accuracy\n",
      "\n",
      "              precision    recall  f1-score   support\n",
      "\n",
      "    negative       1.00      0.36      0.53       866\n",
      "    positive       0.96      1.00      0.98     13477\n",
      "\n",
      "    accuracy                           0.96     14343\n",
      "   macro avg       0.98      0.68      0.76     14343\n",
      "weighted avg       0.96      0.96      0.95     14343\n",
      "\n",
      "\n",
      " [[  316   550]\n",
      " [    1 13476]]\n",
      "\n",
      " 0.9615840479676497\n",
      "****************************************************************************************************\n",
      "Test Accuracy\n",
      "\n",
      "              precision    recall  f1-score   support\n",
      "\n",
      "    negative       0.95      0.24      0.38       324\n",
      "    positive       0.96      1.00      0.98      5824\n",
      "\n",
      "    accuracy                           0.96      6148\n",
      "   macro avg       0.96      0.62      0.68      6148\n",
      "weighted avg       0.96      0.96      0.95      6148\n",
      "\n",
      "\n",
      " [[  78  246]\n",
      " [   4 5820]]\n",
      "\n",
      " 0.9593363695510735\n"
     ]
    }
   ],
   "source": [
    "accuracy(y_train,y_train_pred,y_test,y_test_pred)"
   ]
  },
  {
   "cell_type": "code",
   "execution_count": 124,
   "id": "d71545ed",
   "metadata": {},
   "outputs": [],
   "source": [
    "Data_models = pd.DataFrame(columns = ['Model','Train_Accuracy','Test_Accuracy'])"
   ]
  },
  {
   "cell_type": "code",
   "execution_count": 125,
   "id": "a0b1a583",
   "metadata": {},
   "outputs": [],
   "source": [
    "lg_train =accuracy_score(y_train,y_train_pred)\n",
    "lg_test  =accuracy_score(y_test,y_test_pred)\n",
    "\n",
    "\n",
    "Data_models.loc[1,'Model'] = 'Logistic Regression'\n",
    "Data_models.loc[1,\"Train_Accuracy\"] = lg_train\n",
    "Data_models.loc[1,\"Test_Accuracy\"] = lg_test"
   ]
  },
  {
   "cell_type": "code",
   "execution_count": 126,
   "id": "4c5319af",
   "metadata": {},
   "outputs": [],
   "source": [
    "def get_percentage(num):\n",
    "    return \"{:.2f}\".format(num*100)"
   ]
  },
  {
   "cell_type": "code",
   "execution_count": 127,
   "id": "587777af",
   "metadata": {},
   "outputs": [
    {
     "data": {
      "text/html": [
       "<div>\n",
       "<style scoped>\n",
       "    .dataframe tbody tr th:only-of-type {\n",
       "        vertical-align: middle;\n",
       "    }\n",
       "\n",
       "    .dataframe tbody tr th {\n",
       "        vertical-align: top;\n",
       "    }\n",
       "\n",
       "    .dataframe thead th {\n",
       "        text-align: right;\n",
       "    }\n",
       "</style>\n",
       "<table border=\"1\" class=\"dataframe\">\n",
       "  <thead>\n",
       "    <tr style=\"text-align: right;\">\n",
       "      <th></th>\n",
       "      <th>Model</th>\n",
       "      <th>Train_Accuracy</th>\n",
       "      <th>Test_Accuracy</th>\n",
       "    </tr>\n",
       "  </thead>\n",
       "  <tbody>\n",
       "    <tr>\n",
       "      <th>1</th>\n",
       "      <td>Logistic Regression</td>\n",
       "      <td>96.16</td>\n",
       "      <td>95.93</td>\n",
       "    </tr>\n",
       "  </tbody>\n",
       "</table>\n",
       "</div>"
      ],
      "text/plain": [
       "                 Model Train_Accuracy Test_Accuracy\n",
       "1  Logistic Regression          96.16         95.93"
      ]
     },
     "execution_count": 127,
     "metadata": {},
     "output_type": "execute_result"
    }
   ],
   "source": [
    "Data_models[\"Train_Accuracy\"] = Data_models[\"Train_Accuracy\"].apply(get_percentage)\n",
    "Data_models[\"Test_Accuracy\"]  = Data_models[\"Test_Accuracy\"].apply(get_percentage)\n",
    "Data_models\n"
   ]
  },
  {
   "cell_type": "code",
   "execution_count": 128,
   "id": "b490c040",
   "metadata": {},
   "outputs": [],
   "source": [
    "# Multinomial naivebayes"
   ]
  },
  {
   "cell_type": "code",
   "execution_count": 129,
   "id": "e9b835d2",
   "metadata": {},
   "outputs": [],
   "source": [
    "nb= MultinomialNB()\n",
    "nb.fit(X_train,y_train)\n",
    "y_train_pred = nb.predict(X_train)\n",
    "y_test_pred = nb.predict(X_test)"
   ]
  },
  {
   "cell_type": "code",
   "execution_count": 130,
   "id": "16c4a699",
   "metadata": {},
   "outputs": [
    {
     "name": "stdout",
     "output_type": "stream",
     "text": [
      "Train Accuracy\n",
      "\n",
      "              precision    recall  f1-score   support\n",
      "\n",
      "    negative       0.00      0.00      0.00       866\n",
      "    positive       0.94      1.00      0.97     13477\n",
      "\n",
      "    accuracy                           0.94     14343\n",
      "   macro avg       0.47      0.50      0.48     14343\n",
      "weighted avg       0.88      0.94      0.91     14343\n",
      "\n",
      "\n",
      " [[    0   866]\n",
      " [    0 13477]]\n",
      "\n",
      " 0.9396221153175766\n",
      "****************************************************************************************************\n",
      "Test Accuracy\n",
      "\n",
      "              precision    recall  f1-score   support\n",
      "\n",
      "    negative       0.00      0.00      0.00       324\n",
      "    positive       0.95      1.00      0.97      5824\n",
      "\n",
      "    accuracy                           0.95      6148\n",
      "   macro avg       0.47      0.50      0.49      6148\n",
      "weighted avg       0.90      0.95      0.92      6148\n",
      "\n",
      "\n",
      " [[   0  324]\n",
      " [   0 5824]]\n",
      "\n",
      " 0.9472999349381913\n"
     ]
    }
   ],
   "source": [
    "accuracy(y_train,y_train_pred,y_test,y_test_pred)"
   ]
  },
  {
   "cell_type": "code",
   "execution_count": 131,
   "id": "1a3bfad2",
   "metadata": {},
   "outputs": [],
   "source": [
    "# Random forest classifier"
   ]
  },
  {
   "cell_type": "code",
   "execution_count": 132,
   "id": "c7b06985",
   "metadata": {},
   "outputs": [],
   "source": [
    "rf = RandomForestClassifier(max_features=400)\n",
    "rf.fit(X_train,y_train)\n",
    "y_train_pred = rf.predict(X_train)\n",
    "y_test_pred = rf.predict(X_test)"
   ]
  },
  {
   "cell_type": "code",
   "execution_count": 133,
   "id": "fba05b35",
   "metadata": {},
   "outputs": [
    {
     "name": "stdout",
     "output_type": "stream",
     "text": [
      "Train Accuracy\n",
      "\n",
      "              precision    recall  f1-score   support\n",
      "\n",
      "    negative       1.00      1.00      1.00       866\n",
      "    positive       1.00      1.00      1.00     13477\n",
      "\n",
      "    accuracy                           1.00     14343\n",
      "   macro avg       1.00      1.00      1.00     14343\n",
      "weighted avg       1.00      1.00      1.00     14343\n",
      "\n",
      "\n",
      " [[  866     0]\n",
      " [    0 13477]]\n",
      "\n",
      " 1.0\n",
      "****************************************************************************************************\n",
      "Test Accuracy\n",
      "\n",
      "              precision    recall  f1-score   support\n",
      "\n",
      "    negative       0.94      0.09      0.16       324\n",
      "    positive       0.95      1.00      0.98      5824\n",
      "\n",
      "    accuracy                           0.95      6148\n",
      "   macro avg       0.94      0.54      0.57      6148\n",
      "weighted avg       0.95      0.95      0.93      6148\n",
      "\n",
      "\n",
      " [[  29  295]\n",
      " [   2 5822]]\n",
      "\n",
      " 0.9516916070266753\n"
     ]
    }
   ],
   "source": [
    "accuracy(y_train,y_train_pred,y_test,y_test_pred)"
   ]
  },
  {
   "cell_type": "code",
   "execution_count": 134,
   "id": "8d184a01",
   "metadata": {},
   "outputs": [],
   "source": [
    "# Gradient boosting classifier"
   ]
  },
  {
   "cell_type": "code",
   "execution_count": 135,
   "id": "319d48c7",
   "metadata": {},
   "outputs": [],
   "source": [
    "gb = GradientBoostingClassifier()\n",
    "gb.fit(X_train,y_train)\n",
    "y_train_pred = gb.predict(X_train)\n",
    "y_test_pred = gb.predict(X_test)"
   ]
  },
  {
   "cell_type": "code",
   "execution_count": 136,
   "id": "296fa138",
   "metadata": {},
   "outputs": [
    {
     "name": "stdout",
     "output_type": "stream",
     "text": [
      "Train Accuracy\n",
      "\n",
      "              precision    recall  f1-score   support\n",
      "\n",
      "    negative       0.94      0.51      0.67       866\n",
      "    positive       0.97      1.00      0.98     13477\n",
      "\n",
      "    accuracy                           0.97     14343\n",
      "   macro avg       0.96      0.76      0.82     14343\n",
      "weighted avg       0.97      0.97      0.96     14343\n",
      "\n",
      "\n",
      " [[  445   421]\n",
      " [   27 13450]]\n",
      "\n",
      " 0.9687652513421181\n",
      "****************************************************************************************************\n",
      "Test Accuracy\n",
      "\n",
      "              precision    recall  f1-score   support\n",
      "\n",
      "    negative       0.79      0.44      0.57       324\n",
      "    positive       0.97      0.99      0.98      5824\n",
      "\n",
      "    accuracy                           0.96      6148\n",
      "   macro avg       0.88      0.72      0.77      6148\n",
      "weighted avg       0.96      0.96      0.96      6148\n",
      "\n",
      "\n",
      " [[ 143  181]\n",
      " [  37 5787]]\n",
      "\n",
      " 0.9645413142485361\n"
     ]
    }
   ],
   "source": [
    "accuracy(y_train,y_train_pred,y_test,y_test_pred)"
   ]
  },
  {
   "cell_type": "code",
   "execution_count": 137,
   "id": "90bdb958",
   "metadata": {},
   "outputs": [],
   "source": [
    "# considering lg as the final model"
   ]
  },
  {
   "cell_type": "code",
   "execution_count": 138,
   "id": "7e897aac",
   "metadata": {},
   "outputs": [
    {
     "data": {
      "text/plain": [
       "LogisticRegression()"
      ]
     },
     "execution_count": 138,
     "metadata": {},
     "output_type": "execute_result"
    }
   ],
   "source": [
    "lg.fit(X_train_tfidf_transform, review_content['review_segment']) "
   ]
  },
  {
   "cell_type": "code",
   "execution_count": 141,
   "id": "5c802170",
   "metadata": {},
   "outputs": [],
   "source": [
    "# Final model convert to pickle file and Vectorizering"
   ]
  },
  {
   "cell_type": "code",
   "execution_count": 142,
   "id": "e9f0372b",
   "metadata": {},
   "outputs": [],
   "source": [
    "new_data = ['unique, great stay','great location price view hotel great quick',\n",
    "           'loved, stayed warwick overnight getway enjoy','pay read reviews booked knew getting']"
   ]
  },
  {
   "cell_type": "code",
   "execution_count": 143,
   "id": "4722a87c",
   "metadata": {},
   "outputs": [
    {
     "data": {
      "text/plain": [
       "['unique great stay',\n",
       " 'great location price view hotel great quick',\n",
       " 'loved stayed warwick overnight getway enjoy',\n",
       " 'pay read review booked knew getting']"
      ]
     },
     "execution_count": 143,
     "metadata": {},
     "output_type": "execute_result"
    }
   ],
   "source": [
    "new_clean_data = list(map(preprocess, new_data))\n",
    "new_clean_data"
   ]
  },
  {
   "cell_type": "code",
   "execution_count": 144,
   "id": "222ff101",
   "metadata": {},
   "outputs": [],
   "source": [
    "from sklearn.feature_extraction.text import TfidfVectorizer"
   ]
  },
  {
   "cell_type": "code",
   "execution_count": 145,
   "id": "b1eb6a71",
   "metadata": {},
   "outputs": [
    {
     "data": {
      "text/plain": [
       "<4x45604 sparse matrix of type '<class 'numpy.float64'>'\n",
       "\twith 21 stored elements in Compressed Sparse Row format>"
      ]
     },
     "execution_count": 145,
     "metadata": {},
     "output_type": "execute_result"
    }
   ],
   "source": [
    "new_data_tf = tfidf_vect.transform(new_clean_data)\n",
    "new_data_tf"
   ]
  },
  {
   "cell_type": "code",
   "execution_count": 146,
   "id": "9a82cc16",
   "metadata": {},
   "outputs": [
    {
     "data": {
      "text/plain": [
       "array(['positive', 'positive', 'positive', 'positive'], dtype=object)"
      ]
     },
     "execution_count": 146,
     "metadata": {},
     "output_type": "execute_result"
    }
   ],
   "source": [
    "lg_pred_train_y = lg_model.predict(new_data_tf)\n",
    "lg_pred_train_y"
   ]
  },
  {
   "cell_type": "code",
   "execution_count": 148,
   "id": "df6672a0",
   "metadata": {},
   "outputs": [],
   "source": [
    "import joblib"
   ]
  },
  {
   "cell_type": "code",
   "execution_count": 149,
   "id": "9deb207a",
   "metadata": {},
   "outputs": [],
   "source": [
    "pickle_out = open(\"model_1.pkl\",\"wb\")\n",
    "pickle_out=joblib.dump(lg_model,pickle_out)\n",
    "pickle_out"
   ]
  },
  {
   "cell_type": "code",
   "execution_count": 150,
   "id": "f5a75207",
   "metadata": {},
   "outputs": [],
   "source": [
    "pickle_out_tfidf = open(\"model_1_tfidf.pkl\",\"wb\")\n",
    "pickle_out_tfidf=joblib.dump(tfidf_vect,pickle_out_tfidf)\n",
    "pickle_out_tfidf"
   ]
  },
  {
   "cell_type": "code",
   "execution_count": 151,
   "id": "3eb37b1f",
   "metadata": {},
   "outputs": [
    {
     "data": {
      "text/html": [
       "<div>\n",
       "<style scoped>\n",
       "    .dataframe tbody tr th:only-of-type {\n",
       "        vertical-align: middle;\n",
       "    }\n",
       "\n",
       "    .dataframe tbody tr th {\n",
       "        vertical-align: top;\n",
       "    }\n",
       "\n",
       "    .dataframe thead th {\n",
       "        text-align: right;\n",
       "    }\n",
       "</style>\n",
       "<table border=\"1\" class=\"dataframe\">\n",
       "  <thead>\n",
       "    <tr style=\"text-align: right;\">\n",
       "      <th></th>\n",
       "      <th>cleaned_review</th>\n",
       "    </tr>\n",
       "  </thead>\n",
       "  <tbody>\n",
       "    <tr>\n",
       "      <th>0</th>\n",
       "      <td>nice hotel expensive parking got good deal sta...</td>\n",
       "    </tr>\n",
       "    <tr>\n",
       "      <th>1</th>\n",
       "      <td>nothing special charge diamond member hilton d...</td>\n",
       "    </tr>\n",
       "    <tr>\n",
       "      <th>2</th>\n",
       "      <td>nice room experience hotel monaco seattle good...</td>\n",
       "    </tr>\n",
       "    <tr>\n",
       "      <th>3</th>\n",
       "      <td>unique great stay wonderful time hotel monaco ...</td>\n",
       "    </tr>\n",
       "    <tr>\n",
       "      <th>4</th>\n",
       "      <td>great stay great stay went seahawk game awesom...</td>\n",
       "    </tr>\n",
       "    <tr>\n",
       "      <th>...</th>\n",
       "      <td>...</td>\n",
       "    </tr>\n",
       "    <tr>\n",
       "      <th>95</th>\n",
       "      <td>excellent stay staff friendly helpful nice hot...</td>\n",
       "    </tr>\n",
       "    <tr>\n",
       "      <th>96</th>\n",
       "      <td>return going seattle booked hotel knowing budg...</td>\n",
       "    </tr>\n",
       "    <tr>\n",
       "      <th>97</th>\n",
       "      <td>terrible hotel approximately week ago april re...</td>\n",
       "    </tr>\n",
       "    <tr>\n",
       "      <th>98</th>\n",
       "      <td>great price okay experience stayed inn queen a...</td>\n",
       "    </tr>\n",
       "    <tr>\n",
       "      <th>99</th>\n",
       "      <td>old dumpy place problem head start spinning th...</td>\n",
       "    </tr>\n",
       "  </tbody>\n",
       "</table>\n",
       "<p>100 rows × 1 columns</p>\n",
       "</div>"
      ],
      "text/plain": [
       "                                       cleaned_review\n",
       "0   nice hotel expensive parking got good deal sta...\n",
       "1   nothing special charge diamond member hilton d...\n",
       "2   nice room experience hotel monaco seattle good...\n",
       "3   unique great stay wonderful time hotel monaco ...\n",
       "4   great stay great stay went seahawk game awesom...\n",
       "..                                                ...\n",
       "95  excellent stay staff friendly helpful nice hot...\n",
       "96  return going seattle booked hotel knowing budg...\n",
       "97  terrible hotel approximately week ago april re...\n",
       "98  great price okay experience stayed inn queen a...\n",
       "99  old dumpy place problem head start spinning th...\n",
       "\n",
       "[100 rows x 1 columns]"
      ]
     },
     "execution_count": 151,
     "metadata": {},
     "output_type": "execute_result"
    }
   ],
   "source": [
    "review_content[['cleaned_review']].head(100)\n"
   ]
  },
  {
   "cell_type": "code",
   "execution_count": 152,
   "id": "e97fd722",
   "metadata": {},
   "outputs": [],
   "source": [
    "review_content.to_csv('Reviews',encoding = 'utf-8',index = True)"
   ]
  },
  {
   "cell_type": "code",
   "execution_count": 153,
   "id": "098444f3",
   "metadata": {},
   "outputs": [],
   "source": [
    "reviewText = \"excellent stay delightful surprise stay\""
   ]
  },
  {
   "cell_type": "code",
   "execution_count": 154,
   "id": "0bbab2c5",
   "metadata": {},
   "outputs": [
    {
     "data": {
      "text/plain": [
       "'excellent stay delightful surprise stay'"
      ]
     },
     "execution_count": 154,
     "metadata": {},
     "output_type": "execute_result"
    }
   ],
   "source": [
    "cleanReviewText = preprocess(reviewText)\n",
    "cleanReviewText"
   ]
  },
  {
   "cell_type": "code",
   "execution_count": 155,
   "id": "eefd9ace",
   "metadata": {},
   "outputs": [],
   "source": [
    "textTfIDF = tfidf_vect.transform([cleanReviewText])"
   ]
  },
  {
   "cell_type": "code",
   "execution_count": 156,
   "id": "392e9531",
   "metadata": {},
   "outputs": [
    {
     "data": {
      "text/plain": [
       "'positive'"
      ]
     },
     "execution_count": 156,
     "metadata": {},
     "output_type": "execute_result"
    }
   ],
   "source": [
    "predictedOutput=lg_model.predict(textTfIDF)\n",
    "predictedOutput = predictedOutput[0]\n",
    "predictedOutput"
   ]
  },
  {
   "cell_type": "code",
   "execution_count": 157,
   "id": "70da2d08",
   "metadata": {},
   "outputs": [
    {
     "data": {
      "text/plain": [
       "array([[0.04219801, 0.95780199]])"
      ]
     },
     "execution_count": 157,
     "metadata": {},
     "output_type": "execute_result"
    }
   ],
   "source": [
    "prdictionDist = lg_model._predict_proba_lr(textTfIDF)\n",
    "prdictionDist"
   ]
  },
  {
   "cell_type": "code",
   "execution_count": 158,
   "id": "6362cde2",
   "metadata": {},
   "outputs": [
    {
     "name": "stdout",
     "output_type": "stream",
     "text": [
      "Requirement already satisfied: tabulate in c:\\users\\anura\\anaconda3\\lib\\site-packages (0.8.9)\n",
      "Note: you may need to restart the kernel to use updated packages.\n"
     ]
    }
   ],
   "source": [
    "pip install tabulate"
   ]
  },
  {
   "cell_type": "code",
   "execution_count": 159,
   "id": "cef2f571",
   "metadata": {},
   "outputs": [],
   "source": [
    "from tabulate import tabulate\n",
    "dfRes = pd.DataFrame(columns=['Negative', 'Positive'])"
   ]
  },
  {
   "cell_type": "code",
   "execution_count": 160,
   "id": "5dc3fc6e",
   "metadata": {},
   "outputs": [],
   "source": [
    "dfRes.loc[1, 'Negative'] = get_percentage(prdictionDist[0][0])\n",
    "dfRes.loc[1, 'Positive'] = get_percentage(prdictionDist[0][1])"
   ]
  },
  {
   "cell_type": "code",
   "execution_count": 161,
   "id": "983e5ee7",
   "metadata": {},
   "outputs": [
    {
     "name": "stdout",
     "output_type": "stream",
     "text": [
      "╒════════════╤════════════╕\n",
      "│   Negative │   Positive │\n",
      "╞════════════╪════════════╡\n",
      "│       4.22 │      95.78 │\n",
      "╘════════════╧════════════╛\n"
     ]
    }
   ],
   "source": [
    "print(tabulate(dfRes, headers=dfRes.columns, tablefmt=\"fancy_grid\", showindex=\"never\"))"
   ]
  },
  {
   "cell_type": "code",
   "execution_count": null,
   "id": "68a876bf",
   "metadata": {},
   "outputs": [],
   "source": []
  }
 ],
 "metadata": {
  "kernelspec": {
   "display_name": "Python 3 (ipykernel)",
   "language": "python",
   "name": "python3"
  },
  "language_info": {
   "codemirror_mode": {
    "name": "ipython",
    "version": 3
   },
   "file_extension": ".py",
   "mimetype": "text/x-python",
   "name": "python",
   "nbconvert_exporter": "python",
   "pygments_lexer": "ipython3",
   "version": "3.9.12"
  }
 },
 "nbformat": 4,
 "nbformat_minor": 5
}
